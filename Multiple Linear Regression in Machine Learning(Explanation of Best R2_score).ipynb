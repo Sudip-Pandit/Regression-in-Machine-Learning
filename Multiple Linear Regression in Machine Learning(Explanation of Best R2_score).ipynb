{
 "cells": [
  {
   "cell_type": "markdown",
   "metadata": {},
   "source": [
    "#####                                                                                                                                                                                                    Project by: Sudip PANDIT*"
   ]
  },
  {
   "cell_type": "code",
   "execution_count": 1,
   "metadata": {},
   "outputs": [],
   "source": [
    "#import the libraries\n",
    "import pandas as pd\n",
    "import numpy as np\n",
    "import seaborn as sns\n",
    "import matplotlib.pyplot as plt\n",
    "%matplotlib inline"
   ]
  },
  {
   "cell_type": "code",
   "execution_count": 2,
   "metadata": {},
   "outputs": [],
   "source": [
    "#import the datasets\n",
    "df=pd.read_csv('insurance.csv')"
   ]
  },
  {
   "cell_type": "code",
   "execution_count": 3,
   "metadata": {},
   "outputs": [
    {
     "data": {
      "text/html": [
       "<div>\n",
       "<style scoped>\n",
       "    .dataframe tbody tr th:only-of-type {\n",
       "        vertical-align: middle;\n",
       "    }\n",
       "\n",
       "    .dataframe tbody tr th {\n",
       "        vertical-align: top;\n",
       "    }\n",
       "\n",
       "    .dataframe thead th {\n",
       "        text-align: right;\n",
       "    }\n",
       "</style>\n",
       "<table border=\"1\" class=\"dataframe\">\n",
       "  <thead>\n",
       "    <tr style=\"text-align: right;\">\n",
       "      <th></th>\n",
       "      <th>age</th>\n",
       "      <th>sex</th>\n",
       "      <th>bmi</th>\n",
       "      <th>children</th>\n",
       "      <th>smoker</th>\n",
       "      <th>region</th>\n",
       "      <th>expenses</th>\n",
       "    </tr>\n",
       "  </thead>\n",
       "  <tbody>\n",
       "    <tr>\n",
       "      <th>0</th>\n",
       "      <td>19</td>\n",
       "      <td>female</td>\n",
       "      <td>27.9</td>\n",
       "      <td>0</td>\n",
       "      <td>yes</td>\n",
       "      <td>southwest</td>\n",
       "      <td>16884.92</td>\n",
       "    </tr>\n",
       "    <tr>\n",
       "      <th>1</th>\n",
       "      <td>18</td>\n",
       "      <td>male</td>\n",
       "      <td>33.8</td>\n",
       "      <td>1</td>\n",
       "      <td>no</td>\n",
       "      <td>southeast</td>\n",
       "      <td>1725.55</td>\n",
       "    </tr>\n",
       "    <tr>\n",
       "      <th>2</th>\n",
       "      <td>28</td>\n",
       "      <td>male</td>\n",
       "      <td>33.0</td>\n",
       "      <td>3</td>\n",
       "      <td>no</td>\n",
       "      <td>southeast</td>\n",
       "      <td>4449.46</td>\n",
       "    </tr>\n",
       "    <tr>\n",
       "      <th>3</th>\n",
       "      <td>33</td>\n",
       "      <td>male</td>\n",
       "      <td>22.7</td>\n",
       "      <td>0</td>\n",
       "      <td>no</td>\n",
       "      <td>northwest</td>\n",
       "      <td>21984.47</td>\n",
       "    </tr>\n",
       "    <tr>\n",
       "      <th>4</th>\n",
       "      <td>32</td>\n",
       "      <td>male</td>\n",
       "      <td>28.9</td>\n",
       "      <td>0</td>\n",
       "      <td>no</td>\n",
       "      <td>northwest</td>\n",
       "      <td>3866.86</td>\n",
       "    </tr>\n",
       "  </tbody>\n",
       "</table>\n",
       "</div>"
      ],
      "text/plain": [
       "   age     sex   bmi  children smoker     region  expenses\n",
       "0   19  female  27.9         0    yes  southwest  16884.92\n",
       "1   18    male  33.8         1     no  southeast   1725.55\n",
       "2   28    male  33.0         3     no  southeast   4449.46\n",
       "3   33    male  22.7         0     no  northwest  21984.47\n",
       "4   32    male  28.9         0     no  northwest   3866.86"
      ]
     },
     "execution_count": 3,
     "metadata": {},
     "output_type": "execute_result"
    }
   ],
   "source": [
    "df.head()"
   ]
  },
  {
   "cell_type": "code",
   "execution_count": 4,
   "metadata": {},
   "outputs": [
    {
     "data": {
      "text/html": [
       "<div>\n",
       "<style scoped>\n",
       "    .dataframe tbody tr th:only-of-type {\n",
       "        vertical-align: middle;\n",
       "    }\n",
       "\n",
       "    .dataframe tbody tr th {\n",
       "        vertical-align: top;\n",
       "    }\n",
       "\n",
       "    .dataframe thead th {\n",
       "        text-align: right;\n",
       "    }\n",
       "</style>\n",
       "<table border=\"1\" class=\"dataframe\">\n",
       "  <thead>\n",
       "    <tr style=\"text-align: right;\">\n",
       "      <th></th>\n",
       "      <th>age</th>\n",
       "      <th>sex</th>\n",
       "      <th>bmi</th>\n",
       "      <th>children</th>\n",
       "      <th>smoker</th>\n",
       "      <th>region</th>\n",
       "      <th>expenses</th>\n",
       "    </tr>\n",
       "  </thead>\n",
       "  <tbody>\n",
       "    <tr>\n",
       "      <th>1333</th>\n",
       "      <td>50</td>\n",
       "      <td>male</td>\n",
       "      <td>31.0</td>\n",
       "      <td>3</td>\n",
       "      <td>no</td>\n",
       "      <td>northwest</td>\n",
       "      <td>10600.55</td>\n",
       "    </tr>\n",
       "    <tr>\n",
       "      <th>1334</th>\n",
       "      <td>18</td>\n",
       "      <td>female</td>\n",
       "      <td>31.9</td>\n",
       "      <td>0</td>\n",
       "      <td>no</td>\n",
       "      <td>northeast</td>\n",
       "      <td>2205.98</td>\n",
       "    </tr>\n",
       "    <tr>\n",
       "      <th>1335</th>\n",
       "      <td>18</td>\n",
       "      <td>female</td>\n",
       "      <td>36.9</td>\n",
       "      <td>0</td>\n",
       "      <td>no</td>\n",
       "      <td>southeast</td>\n",
       "      <td>1629.83</td>\n",
       "    </tr>\n",
       "    <tr>\n",
       "      <th>1336</th>\n",
       "      <td>21</td>\n",
       "      <td>female</td>\n",
       "      <td>25.8</td>\n",
       "      <td>0</td>\n",
       "      <td>no</td>\n",
       "      <td>southwest</td>\n",
       "      <td>2007.95</td>\n",
       "    </tr>\n",
       "    <tr>\n",
       "      <th>1337</th>\n",
       "      <td>61</td>\n",
       "      <td>female</td>\n",
       "      <td>29.1</td>\n",
       "      <td>0</td>\n",
       "      <td>yes</td>\n",
       "      <td>northwest</td>\n",
       "      <td>29141.36</td>\n",
       "    </tr>\n",
       "  </tbody>\n",
       "</table>\n",
       "</div>"
      ],
      "text/plain": [
       "      age     sex   bmi  children smoker     region  expenses\n",
       "1333   50    male  31.0         3     no  northwest  10600.55\n",
       "1334   18  female  31.9         0     no  northeast   2205.98\n",
       "1335   18  female  36.9         0     no  southeast   1629.83\n",
       "1336   21  female  25.8         0     no  southwest   2007.95\n",
       "1337   61  female  29.1         0    yes  northwest  29141.36"
      ]
     },
     "execution_count": 4,
     "metadata": {},
     "output_type": "execute_result"
    }
   ],
   "source": [
    "df.tail()"
   ]
  },
  {
   "cell_type": "code",
   "execution_count": 5,
   "metadata": {},
   "outputs": [
    {
     "data": {
      "text/html": [
       "<div>\n",
       "<style scoped>\n",
       "    .dataframe tbody tr th:only-of-type {\n",
       "        vertical-align: middle;\n",
       "    }\n",
       "\n",
       "    .dataframe tbody tr th {\n",
       "        vertical-align: top;\n",
       "    }\n",
       "\n",
       "    .dataframe thead th {\n",
       "        text-align: right;\n",
       "    }\n",
       "</style>\n",
       "<table border=\"1\" class=\"dataframe\">\n",
       "  <thead>\n",
       "    <tr style=\"text-align: right;\">\n",
       "      <th></th>\n",
       "      <th>age</th>\n",
       "      <th>sex</th>\n",
       "      <th>bmi</th>\n",
       "      <th>children</th>\n",
       "      <th>smoker</th>\n",
       "      <th>region</th>\n",
       "      <th>expenses</th>\n",
       "    </tr>\n",
       "  </thead>\n",
       "  <tbody>\n",
       "    <tr>\n",
       "      <th>count</th>\n",
       "      <td>1338.000000</td>\n",
       "      <td>1338</td>\n",
       "      <td>1338.000000</td>\n",
       "      <td>1338.000000</td>\n",
       "      <td>1338</td>\n",
       "      <td>1338</td>\n",
       "      <td>1338.000000</td>\n",
       "    </tr>\n",
       "    <tr>\n",
       "      <th>unique</th>\n",
       "      <td>NaN</td>\n",
       "      <td>2</td>\n",
       "      <td>NaN</td>\n",
       "      <td>NaN</td>\n",
       "      <td>2</td>\n",
       "      <td>4</td>\n",
       "      <td>NaN</td>\n",
       "    </tr>\n",
       "    <tr>\n",
       "      <th>top</th>\n",
       "      <td>NaN</td>\n",
       "      <td>male</td>\n",
       "      <td>NaN</td>\n",
       "      <td>NaN</td>\n",
       "      <td>no</td>\n",
       "      <td>southeast</td>\n",
       "      <td>NaN</td>\n",
       "    </tr>\n",
       "    <tr>\n",
       "      <th>freq</th>\n",
       "      <td>NaN</td>\n",
       "      <td>676</td>\n",
       "      <td>NaN</td>\n",
       "      <td>NaN</td>\n",
       "      <td>1064</td>\n",
       "      <td>364</td>\n",
       "      <td>NaN</td>\n",
       "    </tr>\n",
       "    <tr>\n",
       "      <th>mean</th>\n",
       "      <td>39.207025</td>\n",
       "      <td>NaN</td>\n",
       "      <td>30.665471</td>\n",
       "      <td>1.094918</td>\n",
       "      <td>NaN</td>\n",
       "      <td>NaN</td>\n",
       "      <td>13270.422414</td>\n",
       "    </tr>\n",
       "    <tr>\n",
       "      <th>std</th>\n",
       "      <td>14.049960</td>\n",
       "      <td>NaN</td>\n",
       "      <td>6.098382</td>\n",
       "      <td>1.205493</td>\n",
       "      <td>NaN</td>\n",
       "      <td>NaN</td>\n",
       "      <td>12110.011240</td>\n",
       "    </tr>\n",
       "    <tr>\n",
       "      <th>min</th>\n",
       "      <td>18.000000</td>\n",
       "      <td>NaN</td>\n",
       "      <td>16.000000</td>\n",
       "      <td>0.000000</td>\n",
       "      <td>NaN</td>\n",
       "      <td>NaN</td>\n",
       "      <td>1121.870000</td>\n",
       "    </tr>\n",
       "    <tr>\n",
       "      <th>25%</th>\n",
       "      <td>27.000000</td>\n",
       "      <td>NaN</td>\n",
       "      <td>26.300000</td>\n",
       "      <td>0.000000</td>\n",
       "      <td>NaN</td>\n",
       "      <td>NaN</td>\n",
       "      <td>4740.287500</td>\n",
       "    </tr>\n",
       "    <tr>\n",
       "      <th>50%</th>\n",
       "      <td>39.000000</td>\n",
       "      <td>NaN</td>\n",
       "      <td>30.400000</td>\n",
       "      <td>1.000000</td>\n",
       "      <td>NaN</td>\n",
       "      <td>NaN</td>\n",
       "      <td>9382.030000</td>\n",
       "    </tr>\n",
       "    <tr>\n",
       "      <th>75%</th>\n",
       "      <td>51.000000</td>\n",
       "      <td>NaN</td>\n",
       "      <td>34.700000</td>\n",
       "      <td>2.000000</td>\n",
       "      <td>NaN</td>\n",
       "      <td>NaN</td>\n",
       "      <td>16639.915000</td>\n",
       "    </tr>\n",
       "    <tr>\n",
       "      <th>max</th>\n",
       "      <td>64.000000</td>\n",
       "      <td>NaN</td>\n",
       "      <td>53.100000</td>\n",
       "      <td>5.000000</td>\n",
       "      <td>NaN</td>\n",
       "      <td>NaN</td>\n",
       "      <td>63770.430000</td>\n",
       "    </tr>\n",
       "  </tbody>\n",
       "</table>\n",
       "</div>"
      ],
      "text/plain": [
       "                age   sex          bmi     children smoker     region  \\\n",
       "count   1338.000000  1338  1338.000000  1338.000000   1338       1338   \n",
       "unique          NaN     2          NaN          NaN      2          4   \n",
       "top             NaN  male          NaN          NaN     no  southeast   \n",
       "freq            NaN   676          NaN          NaN   1064        364   \n",
       "mean      39.207025   NaN    30.665471     1.094918    NaN        NaN   \n",
       "std       14.049960   NaN     6.098382     1.205493    NaN        NaN   \n",
       "min       18.000000   NaN    16.000000     0.000000    NaN        NaN   \n",
       "25%       27.000000   NaN    26.300000     0.000000    NaN        NaN   \n",
       "50%       39.000000   NaN    30.400000     1.000000    NaN        NaN   \n",
       "75%       51.000000   NaN    34.700000     2.000000    NaN        NaN   \n",
       "max       64.000000   NaN    53.100000     5.000000    NaN        NaN   \n",
       "\n",
       "            expenses  \n",
       "count    1338.000000  \n",
       "unique           NaN  \n",
       "top              NaN  \n",
       "freq             NaN  \n",
       "mean    13270.422414  \n",
       "std     12110.011240  \n",
       "min      1121.870000  \n",
       "25%      4740.287500  \n",
       "50%      9382.030000  \n",
       "75%     16639.915000  \n",
       "max     63770.430000  "
      ]
     },
     "execution_count": 5,
     "metadata": {},
     "output_type": "execute_result"
    }
   ],
   "source": [
    "df.describe(include='all')"
   ]
  },
  {
   "cell_type": "code",
   "execution_count": 6,
   "metadata": {},
   "outputs": [
    {
     "data": {
      "text/plain": [
       "age         0\n",
       "sex         0\n",
       "bmi         0\n",
       "children    0\n",
       "smoker      0\n",
       "region      0\n",
       "expenses    0\n",
       "dtype: int64"
      ]
     },
     "execution_count": 6,
     "metadata": {},
     "output_type": "execute_result"
    }
   ],
   "source": [
    "#check for the null values\n",
    "df.isnull().sum()"
   ]
  },
  {
   "cell_type": "code",
   "execution_count": 7,
   "metadata": {},
   "outputs": [
    {
     "data": {
      "text/plain": [
       "<matplotlib.axes._subplots.AxesSubplot at 0x1a9501cff70>"
      ]
     },
     "execution_count": 7,
     "metadata": {},
     "output_type": "execute_result"
    },
    {
     "data": {
      "image/png": "[encoded data removed]",
      "text/plain": [
       "<Figure size 432x288 with 1 Axes>"
      ]
     },
     "metadata": {
      "needs_background": "light"
     },
     "output_type": "display_data"
    }
   ],
   "source": [
    "#visualize the null values\n",
    "sns.heatmap(df.isnull()==True, cbar=False, yticklabels=False)\n",
    "#It shows that there is no null values in the datasets"
   ]
  },
  {
   "cell_type": "code",
   "execution_count": 8,
   "metadata": {},
   "outputs": [
    {
     "data": {
      "text/plain": [
       "(1338, 7)"
      ]
     },
     "execution_count": 8,
     "metadata": {},
     "output_type": "execute_result"
    }
   ],
   "source": [
    "df.shape"
   ]
  },
  {
   "cell_type": "code",
   "execution_count": 9,
   "metadata": {},
   "outputs": [
    {
     "name": "stdout",
     "output_type": "stream",
     "text": [
      "<class 'pandas.core.frame.DataFrame'>\n",
      "RangeIndex: 1338 entries, 0 to 1337\n",
      "Data columns (total 7 columns):\n",
      " #   Column    Non-Null Count  Dtype  \n",
      "---  ------    --------------  -----  \n",
      " 0   age       1338 non-null   int64  \n",
      " 1   sex       1338 non-null   object \n",
      " 2   bmi       1338 non-null   float64\n",
      " 3   children  1338 non-null   int64  \n",
      " 4   smoker    1338 non-null   object \n",
      " 5   region    1338 non-null   object \n",
      " 6   expenses  1338 non-null   float64\n",
      "dtypes: float64(2), int64(2), object(3)\n",
      "memory usage: 73.3+ KB\n"
     ]
    }
   ],
   "source": [
    "df.info()"
   ]
  },
  {
   "cell_type": "code",
   "execution_count": 10,
   "metadata": {},
   "outputs": [],
   "source": [
    "# x and y variables\n",
    "x=df.drop('expenses', axis=1)"
   ]
  },
  {
   "cell_type": "code",
   "execution_count": 11,
   "metadata": {},
   "outputs": [],
   "source": [
    "y=df['expenses'].values"
   ]
  },
  {
   "cell_type": "code",
   "execution_count": 12,
   "metadata": {},
   "outputs": [
    {
     "name": "stdout",
     "output_type": "stream",
     "text": [
      "[16884.92  1725.55  4449.46 ...  1629.83  2007.95 29141.36]\n"
     ]
    }
   ],
   "source": [
    "print(y)"
   ]
  },
  {
   "cell_type": "code",
   "execution_count": 13,
   "metadata": {},
   "outputs": [],
   "source": [
    "#Now convert the catagorical variables to numeric variables\n",
    "cols=['sex', 'smoker', 'region']\n",
    "x= pd.get_dummies(data=x, columns=cols, drop_first=True)"
   ]
  },
  {
   "cell_type": "code",
   "execution_count": 14,
   "metadata": {},
   "outputs": [
    {
     "data": {
      "text/html": [
       "<div>\n",
       "<style scoped>\n",
       "    .dataframe tbody tr th:only-of-type {\n",
       "        vertical-align: middle;\n",
       "    }\n",
       "\n",
       "    .dataframe tbody tr th {\n",
       "        vertical-align: top;\n",
       "    }\n",
       "\n",
       "    .dataframe thead th {\n",
       "        text-align: right;\n",
       "    }\n",
       "</style>\n",
       "<table border=\"1\" class=\"dataframe\">\n",
       "  <thead>\n",
       "    <tr style=\"text-align: right;\">\n",
       "      <th></th>\n",
       "      <th>age</th>\n",
       "      <th>bmi</th>\n",
       "      <th>children</th>\n",
       "      <th>sex_male</th>\n",
       "      <th>smoker_yes</th>\n",
       "      <th>region_northwest</th>\n",
       "      <th>region_southeast</th>\n",
       "      <th>region_southwest</th>\n",
       "    </tr>\n",
       "  </thead>\n",
       "  <tbody>\n",
       "    <tr>\n",
       "      <th>0</th>\n",
       "      <td>19</td>\n",
       "      <td>27.9</td>\n",
       "      <td>0</td>\n",
       "      <td>0</td>\n",
       "      <td>1</td>\n",
       "      <td>0</td>\n",
       "      <td>0</td>\n",
       "      <td>1</td>\n",
       "    </tr>\n",
       "    <tr>\n",
       "      <th>1</th>\n",
       "      <td>18</td>\n",
       "      <td>33.8</td>\n",
       "      <td>1</td>\n",
       "      <td>1</td>\n",
       "      <td>0</td>\n",
       "      <td>0</td>\n",
       "      <td>1</td>\n",
       "      <td>0</td>\n",
       "    </tr>\n",
       "    <tr>\n",
       "      <th>2</th>\n",
       "      <td>28</td>\n",
       "      <td>33.0</td>\n",
       "      <td>3</td>\n",
       "      <td>1</td>\n",
       "      <td>0</td>\n",
       "      <td>0</td>\n",
       "      <td>1</td>\n",
       "      <td>0</td>\n",
       "    </tr>\n",
       "    <tr>\n",
       "      <th>3</th>\n",
       "      <td>33</td>\n",
       "      <td>22.7</td>\n",
       "      <td>0</td>\n",
       "      <td>1</td>\n",
       "      <td>0</td>\n",
       "      <td>1</td>\n",
       "      <td>0</td>\n",
       "      <td>0</td>\n",
       "    </tr>\n",
       "    <tr>\n",
       "      <th>4</th>\n",
       "      <td>32</td>\n",
       "      <td>28.9</td>\n",
       "      <td>0</td>\n",
       "      <td>1</td>\n",
       "      <td>0</td>\n",
       "      <td>1</td>\n",
       "      <td>0</td>\n",
       "      <td>0</td>\n",
       "    </tr>\n",
       "  </tbody>\n",
       "</table>\n",
       "</div>"
      ],
      "text/plain": [
       "   age   bmi  children  sex_male  smoker_yes  region_northwest  \\\n",
       "0   19  27.9         0         0           1                 0   \n",
       "1   18  33.8         1         1           0                 0   \n",
       "2   28  33.0         3         1           0                 0   \n",
       "3   33  22.7         0         1           0                 1   \n",
       "4   32  28.9         0         1           0                 1   \n",
       "\n",
       "   region_southeast  region_southwest  \n",
       "0                 0                 1  \n",
       "1                 1                 0  \n",
       "2                 1                 0  \n",
       "3                 0                 0  \n",
       "4                 0                 0  "
      ]
     },
     "execution_count": 14,
     "metadata": {},
     "output_type": "execute_result"
    }
   ],
   "source": [
    "x.head()"
   ]
  },
  {
   "cell_type": "code",
   "execution_count": 15,
   "metadata": {},
   "outputs": [],
   "source": [
    "#scale the features age and bmi to the same scale as of the other features\n",
    "from sklearn.preprocessing import MinMaxScaler"
   ]
  },
  {
   "cell_type": "code",
   "execution_count": 16,
   "metadata": {},
   "outputs": [],
   "source": [
    "scaler=MinMaxScaler()\n",
    "scale_cols=['age', 'bmi']\n",
    "x[scale_cols]=scaler.fit_transform(x[scale_cols])"
   ]
  },
  {
   "cell_type": "code",
   "execution_count": 17,
   "metadata": {},
   "outputs": [
    {
     "data": {
      "text/html": [
       "<div>\n",
       "<style scoped>\n",
       "    .dataframe tbody tr th:only-of-type {\n",
       "        vertical-align: middle;\n",
       "    }\n",
       "\n",
       "    .dataframe tbody tr th {\n",
       "        vertical-align: top;\n",
       "    }\n",
       "\n",
       "    .dataframe thead th {\n",
       "        text-align: right;\n",
       "    }\n",
       "</style>\n",
       "<table border=\"1\" class=\"dataframe\">\n",
       "  <thead>\n",
       "    <tr style=\"text-align: right;\">\n",
       "      <th></th>\n",
       "      <th>age</th>\n",
       "      <th>bmi</th>\n",
       "      <th>children</th>\n",
       "      <th>sex_male</th>\n",
       "      <th>smoker_yes</th>\n",
       "      <th>region_northwest</th>\n",
       "      <th>region_southeast</th>\n",
       "      <th>region_southwest</th>\n",
       "    </tr>\n",
       "  </thead>\n",
       "  <tbody>\n",
       "    <tr>\n",
       "      <th>0</th>\n",
       "      <td>0.021739</td>\n",
       "      <td>0.320755</td>\n",
       "      <td>0</td>\n",
       "      <td>0</td>\n",
       "      <td>1</td>\n",
       "      <td>0</td>\n",
       "      <td>0</td>\n",
       "      <td>1</td>\n",
       "    </tr>\n",
       "    <tr>\n",
       "      <th>1</th>\n",
       "      <td>0.000000</td>\n",
       "      <td>0.479784</td>\n",
       "      <td>1</td>\n",
       "      <td>1</td>\n",
       "      <td>0</td>\n",
       "      <td>0</td>\n",
       "      <td>1</td>\n",
       "      <td>0</td>\n",
       "    </tr>\n",
       "    <tr>\n",
       "      <th>2</th>\n",
       "      <td>0.217391</td>\n",
       "      <td>0.458221</td>\n",
       "      <td>3</td>\n",
       "      <td>1</td>\n",
       "      <td>0</td>\n",
       "      <td>0</td>\n",
       "      <td>1</td>\n",
       "      <td>0</td>\n",
       "    </tr>\n",
       "    <tr>\n",
       "      <th>3</th>\n",
       "      <td>0.326087</td>\n",
       "      <td>0.180593</td>\n",
       "      <td>0</td>\n",
       "      <td>1</td>\n",
       "      <td>0</td>\n",
       "      <td>1</td>\n",
       "      <td>0</td>\n",
       "      <td>0</td>\n",
       "    </tr>\n",
       "    <tr>\n",
       "      <th>4</th>\n",
       "      <td>0.304348</td>\n",
       "      <td>0.347709</td>\n",
       "      <td>0</td>\n",
       "      <td>1</td>\n",
       "      <td>0</td>\n",
       "      <td>1</td>\n",
       "      <td>0</td>\n",
       "      <td>0</td>\n",
       "    </tr>\n",
       "  </tbody>\n",
       "</table>\n",
       "</div>"
      ],
      "text/plain": [
       "        age       bmi  children  sex_male  smoker_yes  region_northwest  \\\n",
       "0  0.021739  0.320755         0         0           1                 0   \n",
       "1  0.000000  0.479784         1         1           0                 0   \n",
       "2  0.217391  0.458221         3         1           0                 0   \n",
       "3  0.326087  0.180593         0         1           0                 1   \n",
       "4  0.304348  0.347709         0         1           0                 1   \n",
       "\n",
       "   region_southeast  region_southwest  \n",
       "0                 0                 1  \n",
       "1                 1                 0  \n",
       "2                 1                 0  \n",
       "3                 0                 0  \n",
       "4                 0                 0  "
      ]
     },
     "execution_count": 17,
     "metadata": {},
     "output_type": "execute_result"
    }
   ],
   "source": [
    "x.head()"
   ]
  },
  {
   "cell_type": "code",
   "execution_count": 18,
   "metadata": {},
   "outputs": [],
   "source": [
    "from sklearn.tree import DecisionTreeRegressor"
   ]
  },
  {
   "cell_type": "code",
   "execution_count": 19,
   "metadata": {},
   "outputs": [],
   "source": [
    "from sklearn.model_selection import train_test_split"
   ]
  },
  {
   "cell_type": "code",
   "execution_count": 20,
   "metadata": {},
   "outputs": [],
   "source": [
    "x_train, x_test, y_train, y_test=train_test_split(x, y, test_size=0.25, random_state=0)"
   ]
  },
  {
   "cell_type": "code",
   "execution_count": 21,
   "metadata": {},
   "outputs": [
    {
     "data": {
      "text/plain": [
       "DecisionTreeRegressor(max_depth=2)"
      ]
     },
     "execution_count": 21,
     "metadata": {},
     "output_type": "execute_result"
    }
   ],
   "source": [
    "tree_reg=DecisionTreeRegressor(max_depth=2, criterion='mse')\n",
    "tree_reg.fit(x_train, y_train)"
   ]
  },
  {
   "cell_type": "code",
   "execution_count": 22,
   "metadata": {},
   "outputs": [],
   "source": [
    "y_pred_reg=tree_reg.predict(x_test)"
   ]
  },
  {
   "cell_type": "code",
   "execution_count": 23,
   "metadata": {},
   "outputs": [
    {
     "data": {
      "text/plain": [
       "array([12428.30292135, 12428.30292135, 41512.0223301 , 12428.30292135,\n",
       "       12428.30292135,  5416.65981982,  5416.65981982, 12428.30292135,\n",
       "        5416.65981982,  5416.65981982,  5416.65981982, 12428.30292135,\n",
       "       12428.30292135,  5416.65981982, 21502.9989    , 12428.30292135,\n",
       "       12428.30292135,  5416.65981982,  5416.65981982, 41512.0223301 ,\n",
       "       21502.9989    , 12428.30292135, 12428.30292135, 21502.9989    ,\n",
       "        5416.65981982,  5416.65981982,  5416.65981982,  5416.65981982,\n",
       "        5416.65981982, 12428.30292135,  5416.65981982, 41512.0223301 ,\n",
       "       12428.30292135, 12428.30292135, 21502.9989    ,  5416.65981982,\n",
       "       12428.30292135, 41512.0223301 , 41512.0223301 ,  5416.65981982,\n",
       "        5416.65981982,  5416.65981982, 21502.9989    , 41512.0223301 ,\n",
       "       41512.0223301 ,  5416.65981982, 12428.30292135,  5416.65981982,\n",
       "        5416.65981982, 12428.30292135,  5416.65981982,  5416.65981982,\n",
       "       21502.9989    , 41512.0223301 , 12428.30292135,  5416.65981982,\n",
       "        5416.65981982, 12428.30292135, 12428.30292135, 12428.30292135,\n",
       "        5416.65981982, 41512.0223301 , 12428.30292135, 12428.30292135,\n",
       "       12428.30292135, 12428.30292135, 41512.0223301 , 41512.0223301 ,\n",
       "        5416.65981982,  5416.65981982, 12428.30292135, 12428.30292135,\n",
       "       21502.9989    , 12428.30292135, 12428.30292135, 12428.30292135,\n",
       "       12428.30292135, 12428.30292135, 21502.9989    , 41512.0223301 ,\n",
       "       12428.30292135, 41512.0223301 ,  5416.65981982, 12428.30292135,\n",
       "       41512.0223301 , 21502.9989    ,  5416.65981982,  5416.65981982,\n",
       "       12428.30292135, 41512.0223301 ,  5416.65981982, 12428.30292135,\n",
       "        5416.65981982, 12428.30292135,  5416.65981982,  5416.65981982,\n",
       "       41512.0223301 , 41512.0223301 ,  5416.65981982, 12428.30292135,\n",
       "        5416.65981982,  5416.65981982,  5416.65981982, 41512.0223301 ,\n",
       "       21502.9989    ,  5416.65981982, 12428.30292135,  5416.65981982,\n",
       "       12428.30292135, 41512.0223301 , 12428.30292135,  5416.65981982,\n",
       "       12428.30292135, 41512.0223301 , 41512.0223301 ,  5416.65981982,\n",
       "        5416.65981982, 12428.30292135, 12428.30292135, 12428.30292135,\n",
       "       41512.0223301 , 12428.30292135, 12428.30292135,  5416.65981982,\n",
       "       12428.30292135,  5416.65981982, 21502.9989    , 21502.9989    ,\n",
       "       41512.0223301 ,  5416.65981982, 12428.30292135,  5416.65981982,\n",
       "        5416.65981982, 12428.30292135, 41512.0223301 , 41512.0223301 ,\n",
       "       21502.9989    , 12428.30292135, 21502.9989    ,  5416.65981982,\n",
       "        5416.65981982, 12428.30292135, 12428.30292135, 12428.30292135,\n",
       "        5416.65981982, 12428.30292135, 12428.30292135,  5416.65981982,\n",
       "        5416.65981982, 12428.30292135,  5416.65981982, 41512.0223301 ,\n",
       "       12428.30292135,  5416.65981982,  5416.65981982,  5416.65981982,\n",
       "        5416.65981982,  5416.65981982, 12428.30292135, 12428.30292135,\n",
       "        5416.65981982, 12428.30292135, 12428.30292135, 12428.30292135,\n",
       "        5416.65981982,  5416.65981982, 21502.9989    ,  5416.65981982,\n",
       "        5416.65981982,  5416.65981982,  5416.65981982,  5416.65981982,\n",
       "       12428.30292135,  5416.65981982,  5416.65981982,  5416.65981982,\n",
       "        5416.65981982,  5416.65981982, 21502.9989    ,  5416.65981982,\n",
       "       12428.30292135,  5416.65981982, 12428.30292135,  5416.65981982,\n",
       "        5416.65981982, 21502.9989    ,  5416.65981982,  5416.65981982,\n",
       "       12428.30292135, 12428.30292135, 41512.0223301 ,  5416.65981982,\n",
       "        5416.65981982, 21502.9989    ,  5416.65981982,  5416.65981982,\n",
       "        5416.65981982,  5416.65981982,  5416.65981982,  5416.65981982,\n",
       "       12428.30292135, 41512.0223301 , 12428.30292135, 21502.9989    ,\n",
       "        5416.65981982, 41512.0223301 ,  5416.65981982, 12428.30292135,\n",
       "        5416.65981982,  5416.65981982, 12428.30292135, 12428.30292135,\n",
       "        5416.65981982,  5416.65981982,  5416.65981982,  5416.65981982,\n",
       "        5416.65981982,  5416.65981982, 12428.30292135,  5416.65981982,\n",
       "        5416.65981982,  5416.65981982, 12428.30292135,  5416.65981982,\n",
       "       12428.30292135, 12428.30292135, 12428.30292135, 12428.30292135,\n",
       "        5416.65981982,  5416.65981982,  5416.65981982, 12428.30292135,\n",
       "       12428.30292135,  5416.65981982,  5416.65981982,  5416.65981982,\n",
       "       12428.30292135, 41512.0223301 ,  5416.65981982, 12428.30292135,\n",
       "        5416.65981982, 41512.0223301 ,  5416.65981982, 12428.30292135,\n",
       "       12428.30292135, 12428.30292135,  5416.65981982, 12428.30292135,\n",
       "        5416.65981982,  5416.65981982, 21502.9989    , 41512.0223301 ,\n",
       "        5416.65981982,  5416.65981982,  5416.65981982,  5416.65981982,\n",
       "       12428.30292135,  5416.65981982,  5416.65981982,  5416.65981982,\n",
       "       12428.30292135, 21502.9989    , 41512.0223301 , 12428.30292135,\n",
       "        5416.65981982, 12428.30292135, 41512.0223301 , 12428.30292135,\n",
       "       41512.0223301 ,  5416.65981982, 41512.0223301 ,  5416.65981982,\n",
       "       12428.30292135,  5416.65981982, 41512.0223301 ,  5416.65981982,\n",
       "       12428.30292135, 12428.30292135,  5416.65981982, 12428.30292135,\n",
       "       12428.30292135,  5416.65981982, 12428.30292135,  5416.65981982,\n",
       "        5416.65981982,  5416.65981982,  5416.65981982, 21502.9989    ,\n",
       "        5416.65981982,  5416.65981982,  5416.65981982, 41512.0223301 ,\n",
       "       12428.30292135,  5416.65981982, 12428.30292135, 12428.30292135,\n",
       "       41512.0223301 ,  5416.65981982,  5416.65981982, 12428.30292135,\n",
       "        5416.65981982,  5416.65981982, 21502.9989    , 21502.9989    ,\n",
       "       12428.30292135,  5416.65981982,  5416.65981982, 12428.30292135,\n",
       "       12428.30292135, 21502.9989    , 21502.9989    ,  5416.65981982,\n",
       "       21502.9989    ,  5416.65981982,  5416.65981982,  5416.65981982,\n",
       "       12428.30292135,  5416.65981982, 12428.30292135, 41512.0223301 ,\n",
       "        5416.65981982,  5416.65981982,  5416.65981982, 12428.30292135,\n",
       "        5416.65981982, 12428.30292135, 41512.0223301 , 21502.9989    ,\n",
       "       12428.30292135, 41512.0223301 , 12428.30292135,  5416.65981982,\n",
       "       12428.30292135,  5416.65981982, 21502.9989    ])"
      ]
     },
     "execution_count": 23,
     "metadata": {},
     "output_type": "execute_result"
    }
   ],
   "source": [
    "y_pred_reg.T"
   ]
  },
  {
   "cell_type": "markdown",
   "metadata": {},
   "source": [
    "### How to Check the Model Variabiity and Bias-Variance Trade-Off??"
   ]
  },
  {
   "cell_type": "code",
   "execution_count": 24,
   "metadata": {},
   "outputs": [],
   "source": [
    "from sklearn.model_selection import cross_validate, KFold"
   ]
  },
  {
   "cell_type": "code",
   "execution_count": 25,
   "metadata": {},
   "outputs": [
    {
     "data": {
      "text/plain": [
       "{'depth_2': array([0.82797876, 0.83627513, 0.82846619, 0.79627887, 0.88576425,\n",
       "        0.82437852, 0.78101358, 0.73007204, 0.80832654, 0.83971832]),\n",
       " 'depth_3': array([0.85628937, 0.87237849, 0.85760018, 0.81877829, 0.91590791,\n",
       "        0.85343578, 0.83150173, 0.75706664, 0.80167779, 0.84678683]),\n",
       " 'depth_4': array([0.85300297, 0.86905526, 0.86086231, 0.84318317, 0.91869788,\n",
       "        0.84800633, 0.82755151, 0.74791778, 0.81648643, 0.85371445]),\n",
       " 'depth_5': array([0.84993277, 0.8802852 , 0.87258964, 0.8492467 , 0.89978505,\n",
       "        0.85098472, 0.80967563, 0.74832063, 0.81547351, 0.85134251]),\n",
       " 'depth_6': array([0.84655847, 0.85905411, 0.88005639, 0.82556283, 0.89192687,\n",
       "        0.84481696, 0.80515752, 0.7439385 , 0.80581394, 0.82353514]),\n",
       " 'depth_7': array([0.84696145, 0.830672  , 0.87059201, 0.79272067, 0.89053487,\n",
       "        0.83906452, 0.78539106, 0.73088233, 0.79234813, 0.78097405]),\n",
       " 'depth_8': array([0.83324937, 0.84657898, 0.83238617, 0.73146118, 0.85142286,\n",
       "        0.79962743, 0.72078025, 0.71389609, 0.78570881, 0.73315122]),\n",
       " 'depth_9': array([0.79654372, 0.81695335, 0.83073999, 0.65941441, 0.85003192,\n",
       "        0.74564279, 0.63675315, 0.71759183, 0.75307473, 0.68766217]),\n",
       " 'depth_10': array([0.77672909, 0.81182268, 0.79578335, 0.65847675, 0.82344207,\n",
       "        0.69783684, 0.60550707, 0.68487889, 0.70396867, 0.68334342])}"
      ]
     },
     "execution_count": 25,
     "metadata": {},
     "output_type": "execute_result"
    }
   ],
   "source": [
    "K_Fold=KFold(n_splits=10, shuffle=True, random_state=42)\n",
    "depth={}\n",
    "\n",
    "for i in range(2,11):\n",
    "    tree_cv=cross_validate(DecisionTreeRegressor(max_depth=i), x, y, cv=K_Fold, scoring=['r2'])\n",
    "    depth['depth_' +str(i)]=tree_cv['test_r2']\n",
    "depth"
   ]
  },
  {
   "cell_type": "code",
   "execution_count": 26,
   "metadata": {},
   "outputs": [],
   "source": [
    "#Now convert it into dataframe\n",
    "df=pd.DataFrame(depth)"
   ]
  },
  {
   "cell_type": "code",
   "execution_count": 27,
   "metadata": {},
   "outputs": [
    {
     "data": {
      "text/html": [
       "<div>\n",
       "<style scoped>\n",
       "    .dataframe tbody tr th:only-of-type {\n",
       "        vertical-align: middle;\n",
       "    }\n",
       "\n",
       "    .dataframe tbody tr th {\n",
       "        vertical-align: top;\n",
       "    }\n",
       "\n",
       "    .dataframe thead th {\n",
       "        text-align: right;\n",
       "    }\n",
       "</style>\n",
       "<table border=\"1\" class=\"dataframe\">\n",
       "  <thead>\n",
       "    <tr style=\"text-align: right;\">\n",
       "      <th></th>\n",
       "      <th>depth_2</th>\n",
       "      <th>depth_3</th>\n",
       "      <th>depth_4</th>\n",
       "      <th>depth_5</th>\n",
       "      <th>depth_6</th>\n",
       "      <th>depth_7</th>\n",
       "      <th>depth_8</th>\n",
       "      <th>depth_9</th>\n",
       "      <th>depth_10</th>\n",
       "    </tr>\n",
       "  </thead>\n",
       "  <tbody>\n",
       "    <tr>\n",
       "      <th>0</th>\n",
       "      <td>0.827979</td>\n",
       "      <td>0.856289</td>\n",
       "      <td>0.853003</td>\n",
       "      <td>0.849933</td>\n",
       "      <td>0.846558</td>\n",
       "      <td>0.846961</td>\n",
       "      <td>0.833249</td>\n",
       "      <td>0.796544</td>\n",
       "      <td>0.776729</td>\n",
       "    </tr>\n",
       "    <tr>\n",
       "      <th>1</th>\n",
       "      <td>0.836275</td>\n",
       "      <td>0.872378</td>\n",
       "      <td>0.869055</td>\n",
       "      <td>0.880285</td>\n",
       "      <td>0.859054</td>\n",
       "      <td>0.830672</td>\n",
       "      <td>0.846579</td>\n",
       "      <td>0.816953</td>\n",
       "      <td>0.811823</td>\n",
       "    </tr>\n",
       "    <tr>\n",
       "      <th>2</th>\n",
       "      <td>0.828466</td>\n",
       "      <td>0.857600</td>\n",
       "      <td>0.860862</td>\n",
       "      <td>0.872590</td>\n",
       "      <td>0.880056</td>\n",
       "      <td>0.870592</td>\n",
       "      <td>0.832386</td>\n",
       "      <td>0.830740</td>\n",
       "      <td>0.795783</td>\n",
       "    </tr>\n",
       "    <tr>\n",
       "      <th>3</th>\n",
       "      <td>0.796279</td>\n",
       "      <td>0.818778</td>\n",
       "      <td>0.843183</td>\n",
       "      <td>0.849247</td>\n",
       "      <td>0.825563</td>\n",
       "      <td>0.792721</td>\n",
       "      <td>0.731461</td>\n",
       "      <td>0.659414</td>\n",
       "      <td>0.658477</td>\n",
       "    </tr>\n",
       "    <tr>\n",
       "      <th>4</th>\n",
       "      <td>0.885764</td>\n",
       "      <td>0.915908</td>\n",
       "      <td>0.918698</td>\n",
       "      <td>0.899785</td>\n",
       "      <td>0.891927</td>\n",
       "      <td>0.890535</td>\n",
       "      <td>0.851423</td>\n",
       "      <td>0.850032</td>\n",
       "      <td>0.823442</td>\n",
       "    </tr>\n",
       "    <tr>\n",
       "      <th>5</th>\n",
       "      <td>0.824379</td>\n",
       "      <td>0.853436</td>\n",
       "      <td>0.848006</td>\n",
       "      <td>0.850985</td>\n",
       "      <td>0.844817</td>\n",
       "      <td>0.839065</td>\n",
       "      <td>0.799627</td>\n",
       "      <td>0.745643</td>\n",
       "      <td>0.697837</td>\n",
       "    </tr>\n",
       "    <tr>\n",
       "      <th>6</th>\n",
       "      <td>0.781014</td>\n",
       "      <td>0.831502</td>\n",
       "      <td>0.827552</td>\n",
       "      <td>0.809676</td>\n",
       "      <td>0.805158</td>\n",
       "      <td>0.785391</td>\n",
       "      <td>0.720780</td>\n",
       "      <td>0.636753</td>\n",
       "      <td>0.605507</td>\n",
       "    </tr>\n",
       "    <tr>\n",
       "      <th>7</th>\n",
       "      <td>0.730072</td>\n",
       "      <td>0.757067</td>\n",
       "      <td>0.747918</td>\n",
       "      <td>0.748321</td>\n",
       "      <td>0.743938</td>\n",
       "      <td>0.730882</td>\n",
       "      <td>0.713896</td>\n",
       "      <td>0.717592</td>\n",
       "      <td>0.684879</td>\n",
       "    </tr>\n",
       "    <tr>\n",
       "      <th>8</th>\n",
       "      <td>0.808327</td>\n",
       "      <td>0.801678</td>\n",
       "      <td>0.816486</td>\n",
       "      <td>0.815474</td>\n",
       "      <td>0.805814</td>\n",
       "      <td>0.792348</td>\n",
       "      <td>0.785709</td>\n",
       "      <td>0.753075</td>\n",
       "      <td>0.703969</td>\n",
       "    </tr>\n",
       "    <tr>\n",
       "      <th>9</th>\n",
       "      <td>0.839718</td>\n",
       "      <td>0.846787</td>\n",
       "      <td>0.853714</td>\n",
       "      <td>0.851343</td>\n",
       "      <td>0.823535</td>\n",
       "      <td>0.780974</td>\n",
       "      <td>0.733151</td>\n",
       "      <td>0.687662</td>\n",
       "      <td>0.683343</td>\n",
       "    </tr>\n",
       "  </tbody>\n",
       "</table>\n",
       "</div>"
      ],
      "text/plain": [
       "    depth_2   depth_3   depth_4   depth_5   depth_6   depth_7   depth_8  \\\n",
       "0  0.827979  0.856289  0.853003  0.849933  0.846558  0.846961  0.833249   \n",
       "1  0.836275  0.872378  0.869055  0.880285  0.859054  0.830672  0.846579   \n",
       "2  0.828466  0.857600  0.860862  0.872590  0.880056  0.870592  0.832386   \n",
       "3  0.796279  0.818778  0.843183  0.849247  0.825563  0.792721  0.731461   \n",
       "4  0.885764  0.915908  0.918698  0.899785  0.891927  0.890535  0.851423   \n",
       "5  0.824379  0.853436  0.848006  0.850985  0.844817  0.839065  0.799627   \n",
       "6  0.781014  0.831502  0.827552  0.809676  0.805158  0.785391  0.720780   \n",
       "7  0.730072  0.757067  0.747918  0.748321  0.743938  0.730882  0.713896   \n",
       "8  0.808327  0.801678  0.816486  0.815474  0.805814  0.792348  0.785709   \n",
       "9  0.839718  0.846787  0.853714  0.851343  0.823535  0.780974  0.733151   \n",
       "\n",
       "    depth_9  depth_10  \n",
       "0  0.796544  0.776729  \n",
       "1  0.816953  0.811823  \n",
       "2  0.830740  0.795783  \n",
       "3  0.659414  0.658477  \n",
       "4  0.850032  0.823442  \n",
       "5  0.745643  0.697837  \n",
       "6  0.636753  0.605507  \n",
       "7  0.717592  0.684879  \n",
       "8  0.753075  0.703969  \n",
       "9  0.687662  0.683343  "
      ]
     },
     "execution_count": 27,
     "metadata": {},
     "output_type": "execute_result"
    }
   ],
   "source": [
    "df"
   ]
  },
  {
   "cell_type": "code",
   "execution_count": 28,
   "metadata": {},
   "outputs": [
    {
     "data": {
      "image/png": "[encoded data removed]",
      "text/plain": [
       "<Figure size 720x720 with 1 Axes>"
      ]
     },
     "metadata": {
      "needs_background": "light"
     },
     "output_type": "display_data"
    }
   ],
   "source": [
    "# Now choose the best depth through visualozing boxplots\n",
    "plt.figure(figsize=(10,10))\n",
    "sns.set_style('whitegrid')\n",
    "sns.boxplot(data=df)\n",
    "plt.xticks(fontsize=14)\n",
    "plt.yticks(fontsize=14)\n",
    "plt.ylabel(\"R2 score\", fontsize=14)\n",
    "plt.title(\"Decision Tree variability and Bias-Variance Trade-off\")\n",
    "plt.show()"
   ]
  },
  {
   "cell_type": "markdown",
   "metadata": {},
   "source": [
    "### Random Forest Regressor"
   ]
  },
  {
   "cell_type": "code",
   "execution_count": 53,
   "metadata": {},
   "outputs": [],
   "source": [
    "from sklearn.ensemble import RandomForestRegressor\n",
    "from sklearn.model_selection import train_test_split\n",
    "x_train, x_test, y_train, y_test=train_test_split(x, y, test_size=0.30, random_state=42)"
   ]
  },
  {
   "cell_type": "code",
   "execution_count": 54,
   "metadata": {},
   "outputs": [],
   "source": [
    "rf=RandomForestRegressor(random_state=42)"
   ]
  },
  {
   "cell_type": "code",
   "execution_count": 55,
   "metadata": {},
   "outputs": [
    {
     "data": {
      "text/plain": [
       "RandomForestRegressor(random_state=42)"
      ]
     },
     "execution_count": 55,
     "metadata": {},
     "output_type": "execute_result"
    }
   ],
   "source": [
    "rf.fit(x_train, y_train)"
   ]
  },
  {
   "cell_type": "code",
   "execution_count": 56,
   "metadata": {},
   "outputs": [],
   "source": [
    "y_pred=rf.predict(x_test)"
   ]
  },
  {
   "cell_type": "code",
   "execution_count": 57,
   "metadata": {},
   "outputs": [
    {
     "data": {
      "text/plain": [
       "array([ 9113.4467,  5775.2895, 28333.7625, 11963.1076, 34564.6804,\n",
       "        7303.7348,  2354.8026, 14324.4421,  5896.0057, 10513.4836,\n",
       "       19052.3701,  7024.419 ,  5191.5607, 46348.8059, 48611.3865,\n",
       "       45515.056 , 10632.3235, 43645.0496, 10234.827 , 24915.7127,\n",
       "        8564.9493,  9937.2971,  2359.9426,  2270.707 , 12292.7958,\n",
       "       11020.6635, 14028.1423,  7676.257 , 10527.6405,  7169.4513,\n",
       "        8615.6345, 12022.6515,  3197.232 ,  5776.3471,  4055.9   ,\n",
       "       10479.1845,  4699.0369,  7562.1473, 23990.2936, 39735.5721,\n",
       "        7308.3365,  2966.8069, 14737.8093, 14959.9681,  5965.568 ,\n",
       "       15756.9364, 18403.2762, 12158.3254, 41721.4834,  7917.2368,\n",
       "       14011.7006,  2966.6268,  7058.9458,  1912.8929, 11765.0436,\n",
       "       10594.338 ,  3710.5168, 46097.8787, 11903.713 , 14169.4479,\n",
       "       13829.1528,  7577.3978, 21579.1365,  7754.426 , 11552.4485,\n",
       "        8648.7416, 17814.9038, 12263.5199,  8692.8077,  2852.4565,\n",
       "        7517.5189,  9288.7617, 11634.2561, 10934.3092,  9511.7732,\n",
       "        5638.3617,  7841.7357, 12452.4715,  5213.8617,  9105.8508,\n",
       "        2457.4183, 27847.9171,  5839.5845, 37411.6514, 40690.4528,\n",
       "       41804.8974,  5749.1457, 11793.0051, 10199.9355, 15529.9379,\n",
       "       17551.6429, 27509.6699, 27103.2621,  5376.3977, 45758.9462,\n",
       "        6994.5723, 20687.619 ,  3603.7458, 17854.2016,  6687.5949,\n",
       "        5985.6491,  2006.7869,  6861.0033, 17045.6532, 14275.996 ,\n",
       "        6499.22  , 12058.1872, 24776.9797,  1691.7656, 24786.5309,\n",
       "        1304.2658,  3774.6116, 12429.27  , 40979.4875, 10674.4069,\n",
       "        7974.9542, 12570.6468, 24957.0377,  7808.361 ,  6685.2582,\n",
       "        5891.5629,  9531.0254, 14789.8976,  2197.2685,  9249.2651,\n",
       "        7567.156 , 12406.5554,  9827.7515, 16297.2931,  2256.4557,\n",
       "        4009.642 ,  7225.9931,  6837.6945, 11303.5319,  6611.64  ,\n",
       "       23898.9557,  5775.8996, 36437.8873, 46137.4628, 39137.3283,\n",
       "        5356.7921, 11878.1533,  2646.1496, 17206.1178,  2656.0709,\n",
       "       24102.9865,  6201.3093,  6601.1028, 13035.7653,  5228.5472,\n",
       "       51501.9497,  6368.1462,  1825.8524, 45710.3944,  7032.5702,\n",
       "        4672.3007, 13484.8213, 10830.7398, 35748.9491, 40036.2562,\n",
       "       14353.0134,  3218.6622, 19760.9586,  5157.9109,  5339.8947,\n",
       "        9016.444 , 48469.3262, 44469.2009, 40158.4789,  8230.7653,\n",
       "       12461.1231,  6455.4653,  6794.4322,  4861.9129,  3413.1846,\n",
       "       25096.6082, 16924.4287, 14405.072 , 16874.8162, 12084.5214,\n",
       "       27987.3737,  5703.0954,  9860.5144,  5257.8357,  6342.2065,\n",
       "        5182.8203,  5902.6667,  7395.0499,  9917.6669, 12420.7528,\n",
       "        4306.9864,  6750.6602,  3712.6458, 48952.7728, 13297.2032,\n",
       "       10349.4682,  3528.0273, 14030.1273,  3003.7997, 12989.7224,\n",
       "        3747.0639, 24640.4194,  8561.7058,  6040.6263, 19263.9946,\n",
       "       19451.4395, 12116.0985,  9949.622 , 10178.2475,  7163.8387,\n",
       "       14091.6022, 13894.2333,  9457.863 , 19964.5577,  8047.9318,\n",
       "        4375.5662,  4929.1064, 14836.8649, 15546.0734,  5576.2958,\n",
       "        2469.8898,  9916.0473, 10451.7056, 45164.1639,  2116.3964,\n",
       "       38738.9796,  1729.8573,  2073.5427, 10112.2649, 11312.4779,\n",
       "        2647.9722,  9852.3424,  9033.6209, 25935.3436, 10054.0341,\n",
       "        9737.1203,  5068.9514,  7824.9825, 44844.3747,  3664.1868,\n",
       "       13827.2282, 39276.551 ,  4218.9503,  4980.349 ,  1655.7131,\n",
       "        4160.5346,  5168.29  ,  4584.749 , 13990.9094,  2646.5696,\n",
       "        3220.5155,  8449.3732,  4503.8629, 11599.2102,  3022.4876,\n",
       "        5135.4903, 12781.8337,  7523.1866,  9328.3205,  6869.4671,\n",
       "        7941.8355, 15402.7767, 19840.6704, 46796.7658, 12884.1049,\n",
       "        6147.9092, 47484.7258,  9813.7893,  9313.2458, 13918.2046,\n",
       "       10403.1075, 12625.7423, 12438.2649, 14251.8584,  2669.6608,\n",
       "       13888.5928,  7524.73  , 40031.2685,  5527.1625,  9853.4633,\n",
       "       11870.9607, 14297.0392, 13169.7364, 10860.5264, 39446.5403,\n",
       "        2647.1588, 10420.7514, 49007.4347,  5597.7867,  5651.2954,\n",
       "        2638.4787, 11356.221 , 15955.6933, 13496.0889, 11648.4564,\n",
       "       13471.0226, 10782.0138,  6062.9661,  3114.9933, 39534.2374,\n",
       "       39479.619 , 11480.8895,  8402.6539, 16594.6581, 14324.7928,\n",
       "       40295.1412,  3412.8863, 47772.7448,  8130.443 ,  1842.8944,\n",
       "        6526.2188,  4458.1052, 18626.1769, 13608.493 ,  3132.9308,\n",
       "       16082.322 , 11850.086 , 13045.07  , 41973.7786, 12479.2935,\n",
       "       25579.1084,  8154.548 , 16670.5578,  5265.8779, 11595.9591,\n",
       "       10162.0884, 15266.4017, 16064.3116,  3399.645 , 11395.6235,\n",
       "       13441.5964, 12085.1574,  4970.9222, 33786.5973,  6796.7072,\n",
       "        5418.9384,  5551.0041,  9716.0267, 42580.557 , 11799.0624,\n",
       "       16749.3439,  7062.5264,  7746.2868,  6787.6346, 14820.0076,\n",
       "        9257.2203,  6063.7647,  2181.0781, 10647.7516, 14248.4544,\n",
       "        5318.5559,  4540.8225, 12951.0264,  4625.0701, 41307.4944,\n",
       "       37682.3895, 47133.6877,  7810.4409, 10543.1195,  6516.7264,\n",
       "        2966.833 , 22016.0694,  6928.697 , 18604.1285, 43660.9917,\n",
       "        5402.3499, 13689.4708,  7035.6344, 10713.0623, 10892.8523,\n",
       "       21159.303 , 13079.4369,  8831.7581,  8384.4347,  4157.6136,\n",
       "       11599.0989, 21266.0286, 11920.8071,  9986.8278,  4208.1617,\n",
       "        9289.2303,  6509.2802, 10802.3512,  9370.8131, 24204.3226,\n",
       "       49167.8309, 11838.8342, 11235.1355, 13635.6431, 14962.8208,\n",
       "        7421.0872,  5634.9437,  7305.5167,  5593.9947, 11404.2102,\n",
       "        6079.0879, 12722.8247, 11266.9919,  5135.8329,  7021.9489,\n",
       "       12953.2337,  3336.1028])"
      ]
     },
     "execution_count": 57,
     "metadata": {},
     "output_type": "execute_result"
    }
   ],
   "source": [
    "y_pred"
   ]
  },
  {
   "cell_type": "code",
   "execution_count": 68,
   "metadata": {},
   "outputs": [],
   "source": [
    "from sklearn.metrics import accuracy_score, mean_squared_error, r2_score"
   ]
  },
  {
   "cell_type": "code",
   "execution_count": 69,
   "metadata": {},
   "outputs": [],
   "source": [
    "from sklearn.metrics import mean_absolute_error"
   ]
  },
  {
   "cell_type": "code",
   "execution_count": 70,
   "metadata": {},
   "outputs": [],
   "source": [
    "from sklearn.metrics import explained_variance_score"
   ]
  },
  {
   "cell_type": "code",
   "execution_count": 71,
   "metadata": {},
   "outputs": [
    {
     "data": {
      "text/plain": [
       "21753174.20396026"
      ]
     },
     "execution_count": 71,
     "metadata": {},
     "output_type": "execute_result"
    }
   ],
   "source": [
    "mean_squared_error(y_test, y_pred)"
   ]
  },
  {
   "cell_type": "code",
   "execution_count": 72,
   "metadata": {},
   "outputs": [
    {
     "data": {
      "text/plain": [
       "2672.654726119403"
      ]
     },
     "execution_count": 72,
     "metadata": {},
     "output_type": "execute_result"
    }
   ],
   "source": [
    "mean_absolute_error(y_test, y_pred)"
   ]
  },
  {
   "cell_type": "code",
   "execution_count": 73,
   "metadata": {},
   "outputs": [
    {
     "data": {
      "text/plain": [
       "0.8516400564765458"
      ]
     },
     "execution_count": 73,
     "metadata": {},
     "output_type": "execute_result"
    }
   ],
   "source": [
    "r2_score(y_test, y_pred)"
   ]
  },
  {
   "cell_type": "code",
   "execution_count": 74,
   "metadata": {},
   "outputs": [
    {
     "data": {
      "text/plain": [
       "0.8541039654736797"
      ]
     },
     "execution_count": 74,
     "metadata": {},
     "output_type": "execute_result"
    }
   ],
   "source": [
    "explained_variance_score(y_test, y_pred)"
   ]
  },
  {
   "cell_type": "code",
   "execution_count": 75,
   "metadata": {},
   "outputs": [],
   "source": [
    "from sklearn.metrics import mean_squared_error\n",
    "from math import sqrt"
   ]
  },
  {
   "cell_type": "code",
   "execution_count": 76,
   "metadata": {},
   "outputs": [],
   "source": [
    "rms = sqrt(mean_squared_error(y_test, y_pred))"
   ]
  },
  {
   "cell_type": "code",
   "execution_count": 77,
   "metadata": {},
   "outputs": [
    {
     "name": "stdout",
     "output_type": "stream",
     "text": [
      "Root Mean Squared Error:: 4664.029824514447\n"
     ]
    }
   ],
   "source": [
    "print(\"Root Mean Squared Error::\", rms)"
   ]
  },
  {
   "cell_type": "code",
   "execution_count": 78,
   "metadata": {},
   "outputs": [],
   "source": [
    "#other method\n",
    "import math\n",
    "from sklearn.metrics import mean_squared_error\n",
    "rmse = math.sqrt(mean_squared_error(y_test, y_pred))"
   ]
  },
  {
   "cell_type": "code",
   "execution_count": 79,
   "metadata": {},
   "outputs": [
    {
     "data": {
      "text/plain": [
       "4664.029824514447"
      ]
     },
     "execution_count": 79,
     "metadata": {},
     "output_type": "execute_result"
    }
   ],
   "source": [
    "rmse"
   ]
  },
  {
   "cell_type": "code",
   "execution_count": 80,
   "metadata": {},
   "outputs": [
    {
     "name": "stdout",
     "output_type": "stream",
     "text": [
      "4664.029824514447\n"
     ]
    }
   ],
   "source": [
    "#other method\n",
    "RMSD = sqrt(mean_squared_error(y_test, y_pred))\n",
    "print(RMSD)"
   ]
  },
  {
   "cell_type": "markdown",
   "metadata": {},
   "source": [
    "### let's try by scaling of the features"
   ]
  },
  {
   "cell_type": "code",
   "execution_count": 81,
   "metadata": {},
   "outputs": [],
   "source": [
    "df=pd.read_csv('insurance.csv')"
   ]
  },
  {
   "cell_type": "code",
   "execution_count": 82,
   "metadata": {},
   "outputs": [
    {
     "data": {
      "text/html": [
       "<div>\n",
       "<style scoped>\n",
       "    .dataframe tbody tr th:only-of-type {\n",
       "        vertical-align: middle;\n",
       "    }\n",
       "\n",
       "    .dataframe tbody tr th {\n",
       "        vertical-align: top;\n",
       "    }\n",
       "\n",
       "    .dataframe thead th {\n",
       "        text-align: right;\n",
       "    }\n",
       "</style>\n",
       "<table border=\"1\" class=\"dataframe\">\n",
       "  <thead>\n",
       "    <tr style=\"text-align: right;\">\n",
       "      <th></th>\n",
       "      <th>age</th>\n",
       "      <th>sex</th>\n",
       "      <th>bmi</th>\n",
       "      <th>children</th>\n",
       "      <th>smoker</th>\n",
       "      <th>region</th>\n",
       "      <th>expenses</th>\n",
       "    </tr>\n",
       "  </thead>\n",
       "  <tbody>\n",
       "    <tr>\n",
       "      <th>0</th>\n",
       "      <td>19</td>\n",
       "      <td>female</td>\n",
       "      <td>27.9</td>\n",
       "      <td>0</td>\n",
       "      <td>yes</td>\n",
       "      <td>southwest</td>\n",
       "      <td>16884.92</td>\n",
       "    </tr>\n",
       "    <tr>\n",
       "      <th>1</th>\n",
       "      <td>18</td>\n",
       "      <td>male</td>\n",
       "      <td>33.8</td>\n",
       "      <td>1</td>\n",
       "      <td>no</td>\n",
       "      <td>southeast</td>\n",
       "      <td>1725.55</td>\n",
       "    </tr>\n",
       "  </tbody>\n",
       "</table>\n",
       "</div>"
      ],
      "text/plain": [
       "   age     sex   bmi  children smoker     region  expenses\n",
       "0   19  female  27.9         0    yes  southwest  16884.92\n",
       "1   18    male  33.8         1     no  southeast   1725.55"
      ]
     },
     "execution_count": 82,
     "metadata": {},
     "output_type": "execute_result"
    }
   ],
   "source": [
    "df.head(2)"
   ]
  },
  {
   "cell_type": "code",
   "execution_count": 133,
   "metadata": {},
   "outputs": [],
   "source": [
    "df2=df.copy()"
   ]
  },
  {
   "cell_type": "code",
   "execution_count": 134,
   "metadata": {},
   "outputs": [
    {
     "data": {
      "text/html": [
       "<div>\n",
       "<style scoped>\n",
       "    .dataframe tbody tr th:only-of-type {\n",
       "        vertical-align: middle;\n",
       "    }\n",
       "\n",
       "    .dataframe tbody tr th {\n",
       "        vertical-align: top;\n",
       "    }\n",
       "\n",
       "    .dataframe thead th {\n",
       "        text-align: right;\n",
       "    }\n",
       "</style>\n",
       "<table border=\"1\" class=\"dataframe\">\n",
       "  <thead>\n",
       "    <tr style=\"text-align: right;\">\n",
       "      <th></th>\n",
       "      <th>age</th>\n",
       "      <th>sex</th>\n",
       "      <th>bmi</th>\n",
       "      <th>children</th>\n",
       "      <th>smoker</th>\n",
       "      <th>region</th>\n",
       "      <th>expenses</th>\n",
       "    </tr>\n",
       "  </thead>\n",
       "  <tbody>\n",
       "    <tr>\n",
       "      <th>0</th>\n",
       "      <td>19</td>\n",
       "      <td>1</td>\n",
       "      <td>27.9</td>\n",
       "      <td>0</td>\n",
       "      <td>yes</td>\n",
       "      <td>southwest</td>\n",
       "      <td>16884.92</td>\n",
       "    </tr>\n",
       "    <tr>\n",
       "      <th>1</th>\n",
       "      <td>18</td>\n",
       "      <td>0</td>\n",
       "      <td>33.8</td>\n",
       "      <td>1</td>\n",
       "      <td>no</td>\n",
       "      <td>southeast</td>\n",
       "      <td>1725.55</td>\n",
       "    </tr>\n",
       "    <tr>\n",
       "      <th>2</th>\n",
       "      <td>28</td>\n",
       "      <td>0</td>\n",
       "      <td>33.0</td>\n",
       "      <td>3</td>\n",
       "      <td>no</td>\n",
       "      <td>southeast</td>\n",
       "      <td>4449.46</td>\n",
       "    </tr>\n",
       "    <tr>\n",
       "      <th>3</th>\n",
       "      <td>33</td>\n",
       "      <td>0</td>\n",
       "      <td>22.7</td>\n",
       "      <td>0</td>\n",
       "      <td>no</td>\n",
       "      <td>northwest</td>\n",
       "      <td>21984.47</td>\n",
       "    </tr>\n",
       "    <tr>\n",
       "      <th>4</th>\n",
       "      <td>32</td>\n",
       "      <td>0</td>\n",
       "      <td>28.9</td>\n",
       "      <td>0</td>\n",
       "      <td>no</td>\n",
       "      <td>northwest</td>\n",
       "      <td>3866.86</td>\n",
       "    </tr>\n",
       "  </tbody>\n",
       "</table>\n",
       "</div>"
      ],
      "text/plain": [
       "   age  sex   bmi  children smoker     region  expenses\n",
       "0   19    1  27.9         0    yes  southwest  16884.92\n",
       "1   18    0  33.8         1     no  southeast   1725.55\n",
       "2   28    0  33.0         3     no  southeast   4449.46\n",
       "3   33    0  22.7         0     no  northwest  21984.47\n",
       "4   32    0  28.9         0     no  northwest   3866.86"
      ]
     },
     "execution_count": 134,
     "metadata": {},
     "output_type": "execute_result"
    }
   ],
   "source": [
    "df2.head()"
   ]
  },
  {
   "cell_type": "markdown",
   "metadata": {},
   "source": [
    "### Solve the catagorical variables\n"
   ]
  },
  {
   "cell_type": "code",
   "execution_count": 135,
   "metadata": {},
   "outputs": [],
   "source": [
    "df2['sex']=pd.get_dummies(df2['sex'])"
   ]
  },
  {
   "cell_type": "code",
   "execution_count": 136,
   "metadata": {},
   "outputs": [],
   "source": [
    "df2['smoker']=pd.get_dummies(df2['smoker'])\n",
    "df2['region']=pd.get_dummies(df2['region'])"
   ]
  },
  {
   "cell_type": "code",
   "execution_count": 137,
   "metadata": {},
   "outputs": [
    {
     "data": {
      "text/html": [
       "<div>\n",
       "<style scoped>\n",
       "    .dataframe tbody tr th:only-of-type {\n",
       "        vertical-align: middle;\n",
       "    }\n",
       "\n",
       "    .dataframe tbody tr th {\n",
       "        vertical-align: top;\n",
       "    }\n",
       "\n",
       "    .dataframe thead th {\n",
       "        text-align: right;\n",
       "    }\n",
       "</style>\n",
       "<table border=\"1\" class=\"dataframe\">\n",
       "  <thead>\n",
       "    <tr style=\"text-align: right;\">\n",
       "      <th></th>\n",
       "      <th>age</th>\n",
       "      <th>sex</th>\n",
       "      <th>bmi</th>\n",
       "      <th>children</th>\n",
       "      <th>smoker</th>\n",
       "      <th>region</th>\n",
       "      <th>expenses</th>\n",
       "    </tr>\n",
       "  </thead>\n",
       "  <tbody>\n",
       "    <tr>\n",
       "      <th>0</th>\n",
       "      <td>19</td>\n",
       "      <td>0</td>\n",
       "      <td>27.9</td>\n",
       "      <td>0</td>\n",
       "      <td>0</td>\n",
       "      <td>0</td>\n",
       "      <td>16884.92</td>\n",
       "    </tr>\n",
       "    <tr>\n",
       "      <th>1</th>\n",
       "      <td>18</td>\n",
       "      <td>1</td>\n",
       "      <td>33.8</td>\n",
       "      <td>1</td>\n",
       "      <td>1</td>\n",
       "      <td>0</td>\n",
       "      <td>1725.55</td>\n",
       "    </tr>\n",
       "  </tbody>\n",
       "</table>\n",
       "</div>"
      ],
      "text/plain": [
       "   age  sex   bmi  children  smoker  region  expenses\n",
       "0   19    0  27.9         0       0       0  16884.92\n",
       "1   18    1  33.8         1       1       0   1725.55"
      ]
     },
     "execution_count": 137,
     "metadata": {},
     "output_type": "execute_result"
    }
   ],
   "source": [
    "df2.head(2)"
   ]
  },
  {
   "cell_type": "code",
   "execution_count": 142,
   "metadata": {},
   "outputs": [],
   "source": [
    "x=df2.drop('expenses', axis=1).values"
   ]
  },
  {
   "cell_type": "code",
   "execution_count": 143,
   "metadata": {},
   "outputs": [],
   "source": [
    "from sklearn.preprocessing import StandardScaler"
   ]
  },
  {
   "cell_type": "code",
   "execution_count": 147,
   "metadata": {},
   "outputs": [],
   "source": [
    "scaler=StandardScaler().fit(x)"
   ]
  },
  {
   "cell_type": "code",
   "execution_count": 148,
   "metadata": {},
   "outputs": [],
   "source": [
    "x_scaled=scaler.transform(x)"
   ]
  },
  {
   "cell_type": "code",
   "execution_count": 150,
   "metadata": {},
   "outputs": [
    {
     "data": {
      "text/plain": [
       "array([[-1.43876426, -1.0105187 , -0.4536457 , -0.90861367, -1.97058663,\n",
       "        -0.56526686],\n",
       "       [-1.50996545,  0.98959079,  0.51418574, -0.07876719,  0.5074631 ,\n",
       "        -0.56526686],\n",
       "       [-0.79795355,  0.98959079,  0.38295436,  1.58092576,  0.5074631 ,\n",
       "        -0.56526686],\n",
       "       ...,\n",
       "       [-1.50996545, -1.0105187 ,  1.02270734, -0.90861367,  0.5074631 ,\n",
       "        -0.56526686],\n",
       "       [-1.29636188, -1.0105187 , -0.79812808, -0.90861367,  0.5074631 ,\n",
       "        -0.56526686],\n",
       "       [ 1.55168573, -1.0105187 , -0.25679863, -0.90861367, -1.97058663,\n",
       "        -0.56526686]])"
      ]
     },
     "execution_count": 150,
     "metadata": {},
     "output_type": "execute_result"
    }
   ],
   "source": [
    "x_scaled"
   ]
  },
  {
   "cell_type": "code",
   "execution_count": 156,
   "metadata": {},
   "outputs": [],
   "source": [
    "y=df2['expenses'].values"
   ]
  },
  {
   "cell_type": "code",
   "execution_count": 160,
   "metadata": {},
   "outputs": [
    {
     "data": {
      "text/plain": [
       "2"
      ]
     },
     "execution_count": 160,
     "metadata": {},
     "output_type": "execute_result"
    }
   ],
   "source": [
    "x_scaled.ndim"
   ]
  },
  {
   "cell_type": "code",
   "execution_count": 162,
   "metadata": {},
   "outputs": [
    {
     "data": {
      "text/plain": [
       "1"
      ]
     },
     "execution_count": 162,
     "metadata": {},
     "output_type": "execute_result"
    }
   ],
   "source": [
    "y.ndim"
   ]
  },
  {
   "cell_type": "code",
   "execution_count": 164,
   "metadata": {},
   "outputs": [],
   "source": [
    "y=y.reshape(-1,1)"
   ]
  },
  {
   "cell_type": "code",
   "execution_count": 165,
   "metadata": {},
   "outputs": [
    {
     "data": {
      "text/plain": [
       "2"
      ]
     },
     "execution_count": 165,
     "metadata": {},
     "output_type": "execute_result"
    }
   ],
   "source": [
    "y.ndim"
   ]
  },
  {
   "cell_type": "code",
   "execution_count": 175,
   "metadata": {},
   "outputs": [],
   "source": [
    "import warnings\n",
    "warnings.filterwarnings('ignore')\n",
    "from sklearn.ensemble import RandomForestRegressor"
   ]
  },
  {
   "cell_type": "code",
   "execution_count": 176,
   "metadata": {},
   "outputs": [],
   "source": [
    "rfg=RandomForestRegressor()"
   ]
  },
  {
   "cell_type": "code",
   "execution_count": 177,
   "metadata": {},
   "outputs": [
    {
     "data": {
      "text/plain": [
       "RandomForestRegressor(random_state=42)"
      ]
     },
     "execution_count": 177,
     "metadata": {},
     "output_type": "execute_result"
    }
   ],
   "source": [
    "rfr.fit(x_scaled,y)"
   ]
  },
  {
   "cell_type": "code",
   "execution_count": 178,
   "metadata": {},
   "outputs": [],
   "source": [
    "from sklearn.model_selection import train_test_split"
   ]
  },
  {
   "cell_type": "code",
   "execution_count": 179,
   "metadata": {},
   "outputs": [],
   "source": [
    "x_train, x_test, y_train, y_test=train_test_split(x_scaled, y, test_size=0.33, random_state=42)"
   ]
  },
  {
   "cell_type": "code",
   "execution_count": 180,
   "metadata": {},
   "outputs": [
    {
     "data": {
      "text/plain": [
       "RandomForestRegressor(random_state=42)"
      ]
     },
     "execution_count": 180,
     "metadata": {},
     "output_type": "execute_result"
    }
   ],
   "source": [
    "rfr.fit(x_train, y_train)"
   ]
  },
  {
   "cell_type": "code",
   "execution_count": 186,
   "metadata": {},
   "outputs": [],
   "source": [
    "y_pred1=rfr.predict(x_test)"
   ]
  },
  {
   "cell_type": "code",
   "execution_count": 187,
   "metadata": {},
   "outputs": [
    {
     "data": {
      "text/plain": [
       "array([ 9872.6452 ,  5440.4517 , 28482.8168 ,  9022.7466 , 34408.7851 ,\n",
       "        8313.6111 ,  1765.3218 , 14109.12695,  6841.6827 , 11050.2332 ,\n",
       "       20290.959  ,  7143.269  ,  7698.8412 , 46475.0239 , 48623.465  ,\n",
       "       45052.5048 , 10662.7551 , 44300.3319 ,  8113.8911 , 24584.7979 ,\n",
       "        5351.0025 ,  8450.525  ,  1863.8446 ,  2701.6882 , 12104.1726 ,\n",
       "       12759.1781 , 13997.1338 ,  5000.1737 , 11896.9584 ,  3497.8959 ,\n",
       "        8000.3287 , 11879.9572 ,  2245.774  ,  5724.2664 ,  4240.7094 ,\n",
       "       11142.5783 ,  4120.5079 ,  7784.4048 , 24076.9005 , 39584.7671 ,\n",
       "       11811.8841 ,  4157.2801 , 12659.1359 , 15153.8365 ,  5937.5576 ,\n",
       "       15193.3961 , 15881.1616 ,  5945.1886 , 42648.0696 ,  6630.4265 ,\n",
       "       13984.9711 ,  2580.619  ,  6651.0612 ,  1737.4903 , 11052.6232 ,\n",
       "       11034.1084 ,  3433.4563 , 43432.6108 , 12177.8407 , 15819.463  ,\n",
       "       13810.7375 ,  6519.7473 , 20272.4088 ,  7356.0496 , 12047.8746 ,\n",
       "        6249.959  , 18430.7141 , 14557.6192 ,  5735.5959 ,  2130.9515 ,\n",
       "        9667.9538 , 11882.6671 ,  9273.5719 ,  9330.0339 ,  7779.7976 ,\n",
       "        5440.4517 , 10282.1451 , 11365.2955 ,  5563.5868 ,  8569.2185 ,\n",
       "        2249.3194 , 28771.9529 ,  7135.0787 , 37380.3962 , 39393.4659 ,\n",
       "       41830.4291 ,  6065.5956 , 10918.1342 ,  8399.7532 , 16541.971  ,\n",
       "       18992.03728, 26840.6594 , 28093.7974 ,  5718.7416 , 47139.1126 ,\n",
       "        7258.7651 , 20143.4884 ,  3466.2696 , 19404.5337 ,  7660.6119 ,\n",
       "        4987.1429 ,  1909.1116 ,  6731.9066 , 16257.791  , 14031.3608 ,\n",
       "        6365.5119 ,  8575.153  , 23929.2673 ,  1695.4738 , 23755.5343 ,\n",
       "        1331.7296 ,  4443.0314 , 12775.5509 , 40977.0302 , 12033.1979 ,\n",
       "        9431.3395 , 12832.4846 , 23932.3943 ,  6432.8376 ,  7412.4741 ,\n",
       "        6442.2096 ,  9820.7071 , 14830.4479 ,  2470.7255 ,  5363.2208 ,\n",
       "        7276.879  ,  8477.5026 , 11508.1216 , 16181.662  ,  2989.5075 ,\n",
       "        4196.8221 ,  6177.4357 ,  5933.3625 , 12255.6016 ,  6172.1369 ,\n",
       "       25473.3865 ,  5086.2593 , 40548.5014 , 46331.9734 , 40046.8522 ,\n",
       "        4999.2368 , 13546.5968 ,  3225.334  , 13912.6704 ,  2494.8119 ,\n",
       "       24165.4824 ,  5614.2924 ,  3965.7397 , 11838.809  ,  5071.0824 ,\n",
       "       48694.6814 , 10858.1961 ,  1307.3871 , 41082.4568 ,  6120.5249 ,\n",
       "        5222.2726 , 13704.406  , 10264.2839 , 35880.2935 , 40190.4458 ,\n",
       "       13862.3136 ,  2645.5832 , 21784.4496 ,  3840.126  ,  7267.3261 ,\n",
       "        7472.2506 , 48548.1889 , 44353.7818 , 40409.1721 ,  3269.2552 ,\n",
       "       11288.6316 ,  6809.5406 ,  9216.3476 ,  4650.6193 ,  2424.0657 ,\n",
       "       24456.0961 , 16998.1227 , 14295.9439 , 16905.3394 , 11405.4689 ,\n",
       "       28499.336  ,  7929.4736 ,  9981.4263 ,  5321.1224 ,  6720.0665 ,\n",
       "        4999.1348 ,  7171.2921 ,  3713.3054 ,  9934.3544 , 11874.9754 ,\n",
       "        4476.009  ,  6278.2866 ,  3146.2976 , 47453.6194 , 13172.45858,\n",
       "        9355.6517 ,  2638.5559 , 15940.0718 ,  3841.5706 , 13415.9904 ,\n",
       "        3387.8735 , 24800.7784 ,  8124.021  ,  4790.118  , 18106.0896 ,\n",
       "       18436.2744 ,  9481.186  ,  9833.2307 , 12769.7011 ,  5640.8802 ,\n",
       "       14596.8244 , 13548.0061 , 11950.444  , 18924.208  ,  7134.6618 ,\n",
       "        3939.1163 ,  4773.5252 , 14074.1999 , 14621.1974 ,  5330.2107 ,\n",
       "        1955.4153 ,  7957.3629 ,  9933.6795 , 44137.1957 ,  2671.4998 ,\n",
       "       38307.3273 ,  1764.5435 ,  1847.6723 ,  9979.3343 , 11965.1723 ,\n",
       "        1791.7035 ,  9688.6871 ,  7554.2968 , 26787.6985 ,  9614.7088 ,\n",
       "       11428.8194 ,  4424.5091 ,  8860.8112 , 44241.6823 ,  2888.6367 ,\n",
       "       14035.8665 , 40910.6431 ,  3155.0661 ,  4070.5681 ,  1577.845  ,\n",
       "        3120.5879 ,  4580.1076 ,  4917.5056 , 13067.5009 ,  2156.1566 ,\n",
       "        2258.9988 ,  9201.6087 ,  4635.052  , 11489.3661 ,  2402.261  ,\n",
       "        4266.6441 , 12637.245  ,  4442.9664 ,  9724.3978 ,  6221.8329 ,\n",
       "        7546.7409 , 15913.3701 , 18998.5152 , 47154.9403 , 12472.0989 ,\n",
       "        6544.5111 , 47602.085  ,  9752.3074 ,  8838.011  , 15391.2804 ,\n",
       "       10184.8641 ,  9536.7594 , 12319.6095 , 14068.1603 ,  2366.5205 ,\n",
       "       14071.8044 ,  9707.1249 , 39992.991  ,  6334.7944 ,  9974.4691 ,\n",
       "       10214.1826 , 14587.7209 , 12118.9283 ,  8823.62   , 39321.7493 ,\n",
       "        2803.1403 ,  9798.9541 , 48174.1148 ,  5215.0128 ,  2890.2311 ,\n",
       "        2911.0923 , 11439.2306 , 15593.4078 , 14795.0139 , 12422.7862 ,\n",
       "       15068.6379 , 11303.3462 ,  4754.5864 ,  3242.2276 , 38917.4625 ,\n",
       "       39402.9952 , 10518.5314 ,  3904.9461 , 16482.4355 , 14892.4066 ,\n",
       "       41491.8351 ,  3228.8512 , 48695.7622 ,  6916.8152 ,  1631.7042 ,\n",
       "        6287.1985 ,  3347.6826 , 19312.6927 , 13699.49642,  3252.7958 ,\n",
       "       11922.2289 , 10910.2517 , 12321.2897 , 41826.7756 , 12414.4009 ,\n",
       "       25873.4741 ,  8119.6367 , 16384.8322 ,  5726.678  ,  8242.2201 ,\n",
       "        8436.0138 , 15112.7593 , 16777.0267 ,  4140.6154 , 10977.7047 ,\n",
       "       14138.4203 , 12682.0002 ,  4932.2244 , 33719.973  ,  7424.2667 ,\n",
       "        2222.0355 ,  5262.9251 ,  9667.0191 , 43916.5457 ,  8778.3638 ,\n",
       "       14842.1287 ,  7435.7781 ,  5487.1348 ,  5015.1645 , 14166.1608 ,\n",
       "        8020.2186 ,  5947.6903 ,  1993.1511 , 11769.6399 ,  9530.9188 ,\n",
       "        5535.8123 ,  5963.9538 , 11937.7912 ,  4392.534  , 40290.0278 ,\n",
       "       38001.2916 , 47421.34   ,  8541.0665 ,  8285.2842 ,  6302.4355 ,\n",
       "        3549.0829 , 22855.2891 ,  7683.4148 , 18418.1002 , 44556.8803 ,\n",
       "        5497.2564 , 13703.251  ,  5597.2987 , 11295.5352 , 14881.4333 ,\n",
       "       23966.9794 , 13323.3133 ,  6917.3471 ,  7310.0892 ,  4079.0099 ,\n",
       "       11616.1602 , 21620.1563 , 12641.4608 , 10069.1222 ,  3082.1562 ,\n",
       "        8766.4337 ,  6430.4633 , 10658.0619 ,  8971.6688 , 24019.1455 ,\n",
       "       48661.4647 , 11841.1273 ,  8531.1382 , 12845.50715, 13159.0841 ,\n",
       "        9126.9155 ,  4269.6864 ,  7314.1155 ,  4607.3592 ,  8601.3941 ,\n",
       "        5281.9676 , 12139.8034 , 12741.7347 ,  5140.1269 ,  5671.9883 ,\n",
       "       11472.8235 ,  3781.9076 , 13313.81858,  8679.4538 , 12286.5302 ,\n",
       "       43318.4    , 39576.0779 , 44060.7326 ,  5659.3418 , 11077.8002 ,\n",
       "       17412.02   ,  6833.2384 , 45976.0123 ,  2238.4182 ,  6404.0173 ,\n",
       "       12389.0122 , 26164.1954 ,  5285.2029 ,  5262.9374 , 16773.63   ,\n",
       "        6835.2132 ,  5168.3718 , 10255.3764 ,  1510.5887 , 20890.9911 ,\n",
       "        8836.8409 ,  6990.1638 ,  7646.2276 ,  5698.146  , 13143.0464 ,\n",
       "       19568.2454 ,  9229.3936 ,  8195.129  ,  4351.8888 ,  7144.6881 ,\n",
       "       14659.7001 ,  5850.415  ,  8976.9535 , 11612.208  , 11482.4735 ,\n",
       "        7588.2596 ,  4767.7644 ])"
      ]
     },
     "execution_count": 187,
     "metadata": {},
     "output_type": "execute_result"
    }
   ],
   "source": [
    "y_pred1"
   ]
  },
  {
   "cell_type": "code",
   "execution_count": 184,
   "metadata": {},
   "outputs": [],
   "source": [
    "from sklearn.metrics import accuracy_score, mean_squared_error, r2_score\n",
    "from sklearn.metrics import mean_absolute_error\n",
    "from sklearn.metrics import explained_variance_score"
   ]
  },
  {
   "cell_type": "code",
   "execution_count": 188,
   "metadata": {},
   "outputs": [],
   "source": [
    "from sklearn.metrics import mean_squared_error\n",
    "from math import sqrt"
   ]
  },
  {
   "cell_type": "code",
   "execution_count": 189,
   "metadata": {},
   "outputs": [],
   "source": [
    "import math\n",
    "from sklearn.metrics import mean_squared_error\n",
    "rmse = math.sqrt(mean_squared_error(y_test, y_pred1))"
   ]
  },
  {
   "cell_type": "code",
   "execution_count": 190,
   "metadata": {},
   "outputs": [
    {
     "data": {
      "text/plain": [
       "4853.853411053622"
      ]
     },
     "execution_count": 190,
     "metadata": {},
     "output_type": "execute_result"
    }
   ],
   "source": [
    "rmse"
   ]
  },
  {
   "cell_type": "code",
   "execution_count": 191,
   "metadata": {},
   "outputs": [
    {
     "data": {
      "text/plain": [
       "23559892.93599688"
      ]
     },
     "execution_count": 191,
     "metadata": {},
     "output_type": "execute_result"
    }
   ],
   "source": [
    "mean_squared_error(y_test, y_pred1)"
   ]
  },
  {
   "cell_type": "code",
   "execution_count": 192,
   "metadata": {},
   "outputs": [
    {
     "data": {
      "text/plain": [
       "2587.729627601811"
      ]
     },
     "execution_count": 192,
     "metadata": {},
     "output_type": "execute_result"
    }
   ],
   "source": [
    "mean_absolute_error(y_test, y_pred1)"
   ]
  },
  {
   "cell_type": "code",
   "execution_count": 205,
   "metadata": {},
   "outputs": [
    {
     "data": {
      "text/plain": [
       "0.8392306257343686"
      ]
     },
     "execution_count": 205,
     "metadata": {},
     "output_type": "execute_result"
    }
   ],
   "source": [
    "r2_score(y_test, y_pred1)"
   ]
  },
  {
   "cell_type": "markdown",
   "metadata": {},
   "source": [
    "### Support Vector Machine"
   ]
  },
  {
   "cell_type": "code",
   "execution_count": 193,
   "metadata": {},
   "outputs": [],
   "source": [
    "from sklearn.svm import SVR"
   ]
  },
  {
   "cell_type": "code",
   "execution_count": 194,
   "metadata": {},
   "outputs": [],
   "source": [
    "svr=SVR()"
   ]
  },
  {
   "cell_type": "code",
   "execution_count": 195,
   "metadata": {},
   "outputs": [
    {
     "data": {
      "text/plain": [
       "SVR()"
      ]
     },
     "execution_count": 195,
     "metadata": {},
     "output_type": "execute_result"
    }
   ],
   "source": [
    "svr.fit(x_train, y_train)"
   ]
  },
  {
   "cell_type": "code",
   "execution_count": 196,
   "metadata": {},
   "outputs": [],
   "source": [
    "y_pred2=svr.predict(x_test)"
   ]
  },
  {
   "cell_type": "code",
   "execution_count": 197,
   "metadata": {},
   "outputs": [
    {
     "data": {
      "text/plain": [
       "array([9548.6492369 , 9491.9456159 , 9612.99655781, 9535.00244734,\n",
       "       9583.2107324 , 9522.63310257, 9485.24053682, 9592.22067791,\n",
       "       9532.57185061, 9544.23988069, 9589.23386138, 9507.44436989,\n",
       "       9468.70154831, 9596.57550479, 9607.15034431, 9610.70431738,\n",
       "       9560.83886019, 9612.54374393, 9524.99636281, 9606.07031321,\n",
       "       9545.7321941 , 9517.88348022, 9466.54410343, 9530.7657418 ,\n",
       "       9553.70589193, 9577.55192924, 9585.51295262, 9502.29288248,\n",
       "       9553.9747789 , 9466.97959305, 9542.88202234, 9574.15847929,\n",
       "       9476.94950987, 9522.05297197, 9460.71628288, 9563.42584085,\n",
       "       9466.80673059, 9513.09297587, 9611.80128207, 9606.07780814,\n",
       "       9545.63338805, 9460.90519606, 9573.67500901, 9569.734595  ,\n",
       "       9497.16684919, 9569.90035931, 9480.14728835, 9507.27377408,\n",
       "       9604.82743877, 9503.69581027, 9592.79542169, 9460.91219868,\n",
       "       9530.07477303, 9509.23346743, 9570.45484959, 9561.44614684,\n",
       "       9515.49848467, 9595.35800902, 9578.50862812, 9575.72321327,\n",
       "       9591.38883034, 9522.57239835, 9579.93210153, 9517.60716994,\n",
       "       9571.32743779, 9471.41154301, 9580.05275551, 9551.36245839,\n",
       "       9480.21008205, 9497.31726934, 9541.96159428, 9556.99798946,\n",
       "       9541.6764908 , 9503.5412709 , 9531.20701641, 9491.89121368,\n",
       "       9530.41818636, 9565.24788977, 9482.91224504, 9539.35372661,\n",
       "       9471.72662442, 9602.88976836, 9486.26565389, 9582.78620019,\n",
       "       9574.70022361, 9605.79682899, 9502.43296955, 9565.1027446 ,\n",
       "       9520.75222223, 9563.39539905, 9589.66225989, 9605.96087695,\n",
       "       9602.28590417, 9516.62227328, 9602.06147598, 9510.02923347,\n",
       "       9599.06427839, 9472.23944633, 9587.97036731, 9529.59274861,\n",
       "       9470.8455465 , 9469.62211949, 9532.73104894, 9569.93540545,\n",
       "       9579.87654427, 9473.68988069, 9518.43543621, 9599.04061425,\n",
       "       9516.28750198, 9609.48103806, 9471.58556254, 9529.85500296,\n",
       "       9585.42696379, 9594.96556685, 9562.17236652, 9465.07851382,\n",
       "       9584.53724846, 9607.85313089, 9500.0394751 , 9459.44969873,\n",
       "       9526.91216697, 9514.47272263, 9575.38715059, 9481.45016482,\n",
       "       9488.78862865, 9516.62315981, 9522.76234875, 9557.37943281,\n",
       "       9582.80779961, 9509.6699582 , 9480.75750575, 9515.21350833,\n",
       "       9504.53352632, 9561.56781442, 9505.55114275, 9579.99230832,\n",
       "       9531.40801509, 9607.3935021 , 9602.47437992, 9594.96839681,\n",
       "       9492.65245779, 9571.4934243 , 9481.01827079, 9563.23205455,\n",
       "       9469.05407962, 9611.64110316, 9482.97911461, 9478.51062796,\n",
       "       9563.47441626, 9479.2266203 , 9604.86320749, 9469.56118978,\n",
       "       9505.66354874, 9596.17977199, 9521.65338106, 9532.09842752,\n",
       "       9590.83970886, 9529.98440153, 9583.41214376, 9603.13496475,\n",
       "       9582.93489502, 9469.58904487, 9579.31762727, 9510.68403111,\n",
       "       9499.69453354, 9525.97424347, 9610.65762962, 9617.24960873,\n",
       "       9605.99535333, 9469.98971292, 9539.95826409, 9500.24755597,\n",
       "       9557.01479438, 9469.84231641, 9470.76591288, 9610.69106807,\n",
       "       9580.52939563, 9590.85640786, 9585.0770619 , 9566.59302642,\n",
       "       9601.99900207, 9530.5046492 , 9529.307214  , 9486.1373642 ,\n",
       "       9528.86324121, 9473.47860045, 9510.55624544, 9477.30240685,\n",
       "       9557.83680825, 9558.78028611, 9510.70900324, 9510.48839503,\n",
       "       9515.61852474, 9598.92621439, 9588.32460328, 9554.6594717 ,\n",
       "       9473.25101854, 9572.25386192, 9511.48932548, 9543.85614836,\n",
       "       9486.69405954, 9612.52539371, 9527.62531346, 9474.01091249,\n",
       "       9584.88970855, 9588.00784386, 9538.93635215, 9515.23419334,\n",
       "       9552.93891204, 9487.92147074, 9572.89594223, 9566.11188312,\n",
       "       9569.45955835, 9586.34881063, 9503.79675601, 9517.31372572,\n",
       "       9477.65230811, 9576.63787589, 9576.04252846, 9490.39781912,\n",
       "       9479.55703865, 9539.16844444, 9550.51360304, 9609.17666982,\n",
       "       9468.50008308, 9592.18524997, 9493.44604868, 9466.75833539,\n",
       "       9542.19183998, 9567.32170408, 9484.8893562 , 9550.95384607,\n",
       "       9487.57982728, 9605.98179359, 9553.19243116, 9549.8210836 ,\n",
       "       9474.00287082, 9517.36808042, 9599.76034904, 9473.04691032,\n",
       "       9574.43320826, 9597.13148999, 9477.32252508, 9464.70792139,\n",
       "       9470.46895117, 9468.75521501, 9480.61742552, 9472.83550043,\n",
       "       9571.26520038, 9502.65533924, 9468.90272351, 9528.21771501,\n",
       "       9477.23490682, 9573.78892325, 9465.13272781, 9466.08198438,\n",
       "       9576.8389189 , 9469.3488125 , 9555.21900866, 9534.99392409,\n",
       "       9525.52121133, 9574.85310014, 9589.41666036, 9616.20052653,\n",
       "       9573.0144709 , 9525.90835972, 9589.18014219, 9552.99152706,\n",
       "       9537.09466765, 9553.79556318, 9551.09575361, 9556.45422595,\n",
       "       9561.91024   , 9588.65020165, 9477.70104855, 9577.78404304,\n",
       "       9554.15568179, 9600.28758615, 9522.94601429, 9550.4428426 ,\n",
       "       9541.8405721 , 9592.43561715, 9557.94346885, 9545.20869175,\n",
       "       9606.06183085, 9510.21197298, 9558.00831779, 9606.46456654,\n",
       "       9510.44734533, 9480.91553889, 9512.46429521, 9566.33158549,\n",
       "       9581.15452074, 9564.74279208, 9557.11575441, 9567.27028416,\n",
       "       9549.22819102, 9493.28580294, 9469.41624393, 9586.26753454,\n",
       "       9598.73281788, 9543.98675803, 9476.90576627, 9581.64918619,\n",
       "       9571.44272827, 9594.77026386, 9510.99283149, 9616.70169004,\n",
       "       9524.21966635, 9490.47231852, 9514.10737653, 9461.20742127,\n",
       "       9582.00940928, 9589.8284262 , 9474.06572782, 9566.81847072,\n",
       "       9565.3579817 , 9580.53299677, 9598.3642418 , 9572.68465841,\n",
       "       9604.37752786, 9530.91705217, 9582.80431958, 9468.35856398,\n",
       "       9524.91040163, 9520.15778116, 9576.50535508, 9552.31897496,\n",
       "       9536.56068216, 9574.81258294, 9585.04863776, 9585.80043031,\n",
       "       9481.05610311, 9582.3869864 , 9512.40755453, 9473.91863751,\n",
       "       9482.11280946, 9558.44837483, 9616.85954094, 9530.96753853,\n",
       "       9585.52795207, 9538.3110706 , 9505.34880001, 9497.84737724,\n",
       "       9510.84385887, 9520.68144941, 9487.24112743, 9470.8460856 ,\n",
       "       9564.36396521, 9528.3926938 , 9485.51513298, 9488.84285719,\n",
       "       9545.33450616, 9475.2090942 , 9595.17608599, 9582.64286175,\n",
       "       9608.66844492, 9477.91086469, 9518.26663339, 9510.38278413,\n",
       "       9472.87280542, 9599.24803176, 9532.05573686, 9591.87512453,\n",
       "       9613.10781208, 9486.46072137, 9582.40294517, 9506.57149013,\n",
       "       9538.74220404, 9565.31336472, 9592.59668087, 9576.57996595,\n",
       "       9537.91944933, 9472.35018453, 9505.31761941, 9578.60559832,\n",
       "       9607.27238107, 9562.21618645, 9546.67046014, 9500.9707333 ,\n",
       "       9505.93412352, 9507.82002594, 9537.75008896, 9543.5913359 ,\n",
       "       9611.04776982, 9619.70630314, 9574.79830622, 9520.43597163,\n",
       "       9586.35786947, 9565.80790815, 9506.34415875, 9513.38038115,\n",
       "       9520.91167464, 9480.85129823, 9538.37557604, 9484.20969777,\n",
       "       9571.10919195, 9573.379345  , 9487.96007474, 9510.46280368,\n",
       "       9578.14665   , 9475.86155409, 9585.84367791, 9523.5640755 ,\n",
       "       9567.694919  , 9606.66122939, 9583.14955782, 9611.53005414,\n",
       "       9474.91620745, 9511.99752371, 9574.89098174, 9534.73615074,\n",
       "       9587.95271302, 9480.7056764 , 9496.25178497, 9562.2137473 ,\n",
       "       9599.66956808, 9552.85087897, 9466.37513988, 9583.53847128,\n",
       "       9512.38652204, 9470.54953365, 9540.07254982, 9486.81352439,\n",
       "       9593.44621354, 9541.91902377, 9526.24134469, 9477.23009822,\n",
       "       9492.02149533, 9568.36785486, 9598.16733232, 9523.81308998,\n",
       "       9533.19676918, 9520.82635452, 9543.19053946, 9484.1116234 ,\n",
       "       9493.9862474 , 9524.02726969, 9564.95581882, 9546.03114445,\n",
       "       9544.25461097, 9469.88118   ])"
      ]
     },
     "execution_count": 197,
     "metadata": {},
     "output_type": "execute_result"
    }
   ],
   "source": [
    "y_pred2"
   ]
  },
  {
   "cell_type": "code",
   "execution_count": 198,
   "metadata": {},
   "outputs": [],
   "source": [
    "rmse = math.sqrt(mean_squared_error(y_test, y_pred2))"
   ]
  },
  {
   "cell_type": "code",
   "execution_count": 199,
   "metadata": {},
   "outputs": [
    {
     "data": {
      "text/plain": [
       "12572.562513445415"
      ]
     },
     "execution_count": 199,
     "metadata": {},
     "output_type": "execute_result"
    }
   ],
   "source": [
    "rmse"
   ]
  },
  {
   "cell_type": "code",
   "execution_count": 200,
   "metadata": {},
   "outputs": [
    {
     "data": {
      "text/plain": [
       "8274.287128938737"
      ]
     },
     "execution_count": 200,
     "metadata": {},
     "output_type": "execute_result"
    }
   ],
   "source": [
    "mean_absolute_error(y_test, y_pred2)"
   ]
  },
  {
   "cell_type": "code",
   "execution_count": 201,
   "metadata": {},
   "outputs": [
    {
     "data": {
      "text/plain": [
       "158069328.15449288"
      ]
     },
     "execution_count": 201,
     "metadata": {},
     "output_type": "execute_result"
    }
   ],
   "source": [
    "mean_squared_error(y_test, y_pred2)"
   ]
  },
  {
   "cell_type": "code",
   "execution_count": 202,
   "metadata": {},
   "outputs": [
    {
     "data": {
      "text/plain": [
       "0.005399802661414932"
      ]
     },
     "execution_count": 202,
     "metadata": {},
     "output_type": "execute_result"
    }
   ],
   "source": [
    "explained_variance_score(y_test, y_pred2)"
   ]
  },
  {
   "cell_type": "code",
   "execution_count": 204,
   "metadata": {},
   "outputs": [
    {
     "data": {
      "text/plain": [
       "-0.0786427190914274"
      ]
     },
     "execution_count": 204,
     "metadata": {},
     "output_type": "execute_result"
    }
   ],
   "source": [
    "r2_score(y_test, y_pred2)"
   ]
  },
  {
   "cell_type": "markdown",
   "metadata": {},
   "source": [
    "##### Explanation of r2_score: r2_score. R^2 (coefficient of determination) regression score function. Best possible score is 1.0 and it can be negative (because the model can be arbitrarily worse)"
   ]
  },
  {
   "cell_type": "code",
   "execution_count": 50,
   "metadata": {},
   "outputs": [],
   "source": [
    "# Reference:\n",
    "# machine-learning_Dr.B. (2020, March 18). Lesson 17 Decision Trees. \n",
    "# YouTube. https://www.youtube.com/watch?v=KIuB9nsVKqY&t=709s  \n",
    "#https://towardsdatascience.com/hyperparameter-tuning-the-random-forest-in-python-using-scikit-learn-28d2aa77dd74"
   ]
  }
 ],
 "metadata": {
  "gist": {
   "data": {
    "description": "Desktop/Random Forest Regressor/Untitled.ipynb",
    "public": true
   },
   "id": ""
  },
  "kernelspec": {
   "display_name": "Python 3",
   "language": "python",
   "name": "python3"
  },
  "language_info": {
   "codemirror_mode": {
    "name": "ipython",
    "version": 3
   },
   "file_extension": ".py",
   "mimetype": "text/x-python",
   "name": "python",
   "nbconvert_exporter": "python",
   "pygments_lexer": "ipython3",
   "version": "3.8.3"
  }
 },
 "nbformat": 4,
 "nbformat_minor": 4
}
